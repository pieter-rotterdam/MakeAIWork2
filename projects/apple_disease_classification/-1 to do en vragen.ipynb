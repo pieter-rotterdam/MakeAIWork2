{
 "cells": [
  {
   "cell_type": "code",
   "execution_count": null,
   "metadata": {},
   "outputs": [],
   "source": []
  },
  {
   "cell_type": "markdown",
   "metadata": {},
   "source": [
    "vragen:\n",
    "\n",
    "BASEMODELPREDICTEST\n",
    "\n",
    "labels zijn 0-1-2-3 ipv blotch, normal , rot en scab\n",
    "\n",
    "prediction is np array ipv %\n",
    "\n",
    "opslaan en ophalen met checkpoints?\n",
    "\n",
    "hoe grijp ik elementen aan uit een tf dataset?"
   ]
  }
 ],
 "metadata": {
  "kernelspec": {
   "display_name": "Python 3.9.12 ('base')",
   "language": "python",
   "name": "python3"
  },
  "language_info": {
   "name": "python",
   "version": "3.9.12"
  },
  "orig_nbformat": 4,
  "vscode": {
   "interpreter": {
    "hash": "ed663571a6b95854416caae2548ff2b282c207efa98e62a2556d9c76a2b9028c"
   }
  }
 },
 "nbformat": 4,
 "nbformat_minor": 2
}
