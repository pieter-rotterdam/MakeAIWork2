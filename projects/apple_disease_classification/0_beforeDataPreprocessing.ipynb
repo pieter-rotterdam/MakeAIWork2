{
 "cells": [
  {
   "cell_type": "code",
   "execution_count": 3,
   "metadata": {},
   "outputs": [
    {
     "name": "stdout",
     "output_type": "stream",
     "text": [
      "All Files Renamed\n",
      "New Names are\n",
      "['Scab_apple34.jpg', 'Scab_apple20.jpg', 'Scab_apple21.jpg', 'Scab_apple35.jpg', 'Scab_apple23.jpg', 'Scab_apple37.jpg', 'Scab_apple36.jpg', 'Scab_apple22.jpg', 'Scab_apple26.jpg', 'Scab_apple32.jpg', 'Scab_apple33.jpg', 'Scab_apple27.jpg', 'Scab_apple31.jpg', 'Scab_apple25.jpg', 'Scab_apple19.jpg', 'Scab_apple18.jpg', 'Scab_apple24.jpg', 'Scab_apple30.jpg', 'Scab_apple57.jpg', 'Scab_apple43.jpg', 'Scab_apple80.jpg', 'Scab_apple81.jpg', 'Scab_apple42.jpg', 'Scab_apple56.jpg', 'Scab_apple68.jpg', 'Scab_apple40.jpg', 'Scab_apple54.jpg', 'Scab_apple83.jpg', 'Scab_apple9.jpg', 'Scab_apple8.jpg', 'Scab_apple82.jpg', 'Scab_apple55.jpg', 'Scab_apple41.jpg', 'Scab_apple69.jpg', 'Scab_apple45.jpg', 'Scab_apple51.jpg', 'Scab_apple79.jpg', 'Scab_apple78.jpg', 'Scab_apple50.jpg', 'Scab_apple44.jpg', 'Scab_apple52.jpg', 'Scab_apple46.jpg', 'Scab_apple85.jpg', 'Scab_apple84.jpg', 'Scab_apple47.jpg', 'Scab_apple53.jpg', 'Scab_apple76.jpg', 'Scab_apple62.jpg', 'Scab_apple3.jpg', 'Scab_apple2.jpg', 'Scab_apple63.jpg', 'Scab_apple77.jpg', 'Scab_apple49.jpg', 'Scab_apple61.jpg', 'Scab_apple75.jpg', 'Scab_apple1.jpg', 'Scab_apple74.jpg', 'Scab_apple60.jpg', 'Scab_apple48.jpg', 'Scab_apple64.jpg', 'Scab_apple70.jpg', 'Scab_apple58.jpg', 'Scab_apple5.jpg', 'Scab_apple4.jpg', 'Scab_apple59.jpg', 'Scab_apple71.jpg', 'Scab_apple65.jpg', 'Scab_apple73.jpg', 'Scab_apple67.jpg', 'Scab_apple6.jpg', 'Scab_apple7.jpg', 'Scab_apple66.jpg', 'Scab_apple72.jpg', 'Scab_apple29.jpg', 'Scab_apple15.jpg', 'Scab_apple14.jpg', 'Scab_apple28.jpg', 'Scab_apple16.jpg', 'Scab_apple17.jpg', 'Scab_apple13.jpg', 'Scab_apple12.jpg', 'Scab_apple10.jpg', 'Scab_apple38.jpg', 'Scab_apple39.jpg', 'Scab_apple11.jpg']\n"
     ]
    }
   ],
   "source": [
    "import os\n",
    "\n",
    "folder = 'data/Train/Scab_Apple/'\n",
    "count = 1\n",
    "# count increase by 1 in each iteration\n",
    "# iterate all files from a directory\n",
    "for file_name in os.listdir(folder):\n",
    "    # Construct old file name\n",
    "    source = folder + file_name\n",
    "\n",
    "    # Adding the count to the new file name and extension\n",
    "    destination = folder + \"Scab_apple\" + str(count) + \".jpg\"\n",
    "\n",
    "    # Renaming the file\n",
    "    os.rename(source, destination)\n",
    "    count += 1\n",
    "print('All Files Renamed')\n",
    "\n",
    "print('New Names are')\n",
    "# verify the result\n",
    "res = os.listdir(folder)\n",
    "print(res)"
   ]
  },
  {
   "cell_type": "code",
   "execution_count": null,
   "metadata": {},
   "outputs": [],
   "source": []
  }
 ],
 "metadata": {
  "kernelspec": {
   "display_name": "Python 3 (ipykernel)",
   "language": "python",
   "name": "python3"
  },
  "language_info": {
   "codemirror_mode": {
    "name": "ipython",
    "version": 3
   },
   "file_extension": ".py",
   "mimetype": "text/x-python",
   "name": "python",
   "nbconvert_exporter": "python",
   "pygments_lexer": "ipython3",
   "version": "3.9.12"
  },
  "vscode": {
   "interpreter": {
    "hash": "ed663571a6b95854416caae2548ff2b282c207efa98e62a2556d9c76a2b9028c"
   }
  }
 },
 "nbformat": 4,
 "nbformat_minor": 4
}
