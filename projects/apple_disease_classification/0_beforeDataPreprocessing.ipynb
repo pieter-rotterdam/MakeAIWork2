{
 "cells": [
  {
   "cell_type": "code",
   "execution_count": 1,
   "metadata": {},
   "outputs": [
    {
     "name": "stdout",
     "output_type": "stream",
     "text": [
      "All Files Renamed\n",
      "New Names are\n",
      "['Normal_apple41.jpg', 'Normal_apple55.jpg', 'Normal_apple54.jpg', 'Normal_apple40.jpg', 'Normal_apple56.jpg', 'Normal_apple42.jpg', 'Normal_apple43.jpg', 'Normal_apple57.jpg', 'Normal_apple53.jpg', 'Normal_apple47.jpg', 'Normal_apple46.jpg', 'Normal_apple52.jpg', 'Normal_apple44.jpg', 'Normal_apple50.jpg', 'Normal_apple51.jpg', 'Normal_apple45.jpg', 'Normal_apple22.jpg', 'Normal_apple36.jpg', 'Normal_apple7.jpg', 'Normal_apple6.jpg', 'Normal_apple37.jpg', 'Normal_apple23.jpg', 'Normal_apple35.jpg', 'Normal_apple21.jpg', 'Normal_apple4.jpg', 'Normal_apple5.jpg', 'Normal_apple20.jpg', 'Normal_apple34.jpg', 'Normal_apple18.jpg', 'Normal_apple30.jpg', 'Normal_apple24.jpg', 'Normal_apple1.jpg', 'Normal_apple25.jpg', 'Normal_apple31.jpg', 'Normal_apple19.jpg', 'Normal_apple27.jpg', 'Normal_apple33.jpg', 'Normal_apple2.jpg', 'Normal_apple3.jpg', 'Normal_apple32.jpg', 'Normal_apple26.jpg', 'Normal_apple17.jpg', 'Normal_apple16.jpg', 'Normal_apple14.jpg', 'Normal_apple28.jpg', 'Normal_apple29.jpg', 'Normal_apple15.jpg', 'Normal_apple39.jpg', 'Normal_apple11.jpg', 'Normal_apple8.jpg', 'Normal_apple9.jpg', 'Normal_apple10.jpg', 'Normal_apple38.jpg', 'Normal_apple12.jpg', 'Normal_apple13.jpg', 'Normal_apple60.jpg', 'Normal_apple48.jpg', 'Normal_apple49.jpg', 'Normal_apple61.jpg', 'Normal_apple63.jpg', 'Normal_apple62.jpg', 'Normal_apple66.jpg', 'Normal_apple67.jpg', 'Normal_apple59.jpg', 'Normal_apple65.jpg', 'Normal_apple64.jpg', 'Normal_apple58.jpg']\n"
     ]
    }
   ],
   "source": [
    "import os\n",
    "\n",
    "folder = 'data/Train/Normal_Apple/'\n",
    "count = 1\n",
    "# count increase by 1 in each iteration\n",
    "# iterate all files from a directory\n",
    "for file_name in os.listdir(folder):\n",
    "    # Construct old file name\n",
    "    source = folder + file_name\n",
    "\n",
    "    # Adding the count to the new file name and extension\n",
    "    destination = folder + \"Normal_apple\" + str(count) + \".jpg\"\n",
    "\n",
    "    # Renaming the file\n",
    "    os.rename(source, destination)\n",
    "    count += 1\n",
    "print('All Files Renamed')\n",
    "\n",
    "print('New Names are')\n",
    "# verify the result\n",
    "res = os.listdir(folder)\n",
    "print(res)"
   ]
  },
  {
   "cell_type": "code",
   "execution_count": null,
   "metadata": {},
   "outputs": [],
   "source": []
  }
 ],
 "metadata": {
  "kernelspec": {
   "display_name": "Python 3 (ipykernel)",
   "language": "python",
   "name": "python3"
  },
  "language_info": {
   "codemirror_mode": {
    "name": "ipython",
    "version": 3
   },
   "file_extension": ".py",
   "mimetype": "text/x-python",
   "name": "python",
   "nbconvert_exporter": "python",
   "pygments_lexer": "ipython3",
   "version": "3.9.12"
  },
  "vscode": {
   "interpreter": {
    "hash": "ed663571a6b95854416caae2548ff2b282c207efa98e62a2556d9c76a2b9028c"
   }
  }
 },
 "nbformat": 4,
 "nbformat_minor": 4
}
