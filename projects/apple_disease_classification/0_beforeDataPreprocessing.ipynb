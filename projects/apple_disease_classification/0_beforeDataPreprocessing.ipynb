{
 "cells": [
  {
   "cell_type": "code",
   "execution_count": 11,
   "metadata": {},
   "outputs": [
    {
     "name": "stdout",
     "output_type": "stream",
     "text": [
      "All Files Renamed\n",
      "New Names are\n",
      "['Normal_Apple22.jpg', 'Normal_Apple7.jpg', 'Normal_Apple6.jpg', 'Normal_Apple23.jpg', 'Normal_Apple21.jpg', 'Normal_Apple4.jpg', 'Normal_Apple5.jpg', 'Normal_Apple20.jpg', 'Normal_Apple18.jpg', 'Normal_Apple24.jpg', 'Normal_Apple1.jpg', 'Normal_Apple19.jpg', 'Normal_Apple2.jpg', 'Normal_Apple3.jpg', 'Normal_Apple17.jpg', 'Normal_Apple16.jpg', 'Normal_Apple14.jpg', 'Normal_Apple15.jpg', 'Normal_Apple11.jpg', 'Normal_Apple8.jpg', 'Normal_Apple9.jpg', 'Normal_Apple10.jpg', 'Normal_Apple12.jpg', 'Normal_Apple13.jpg']\n"
     ]
    }
   ],
   "source": [
    "import os\n",
    "\n",
    "folder = 'data/Test/Normal_Apple/'\n",
    "count = 1\n",
    "# count increase by 1 in each iteration\n",
    "# iterate all files from a directory\n",
    "for file_name in os.listdir(folder):\n",
    "    # Construct old file name\n",
    "    source = folder + file_name\n",
    "\n",
    "    # Adding the count to the new file name and extension\n",
    "    destination = folder + \"Normal_Apple\" + str(count) + \".jpg\"\n",
    "\n",
    "    # Renaming the file\n",
    "    os.rename(source, destination)\n",
    "    count += 1\n",
    "print('All Files Renamed')\n",
    "\n",
    "print('New Names are')\n",
    "# verify the result\n",
    "res = os.listdir(folder)\n",
    "print(res)"
   ]
  },
  {
   "cell_type": "code",
   "execution_count": null,
   "metadata": {},
   "outputs": [],
   "source": []
  }
 ],
 "metadata": {
  "kernelspec": {
   "display_name": "Python 3 (ipykernel)",
   "language": "python",
   "name": "python3"
  },
  "language_info": {
   "codemirror_mode": {
    "name": "ipython",
    "version": 3
   },
   "file_extension": ".py",
   "mimetype": "text/x-python",
   "name": "python",
   "nbconvert_exporter": "python",
   "pygments_lexer": "ipython3",
   "version": "3.9.12"
  },
  "vscode": {
   "interpreter": {
    "hash": "ed663571a6b95854416caae2548ff2b282c207efa98e62a2556d9c76a2b9028c"
   }
  }
 },
 "nbformat": 4,
 "nbformat_minor": 4
}
