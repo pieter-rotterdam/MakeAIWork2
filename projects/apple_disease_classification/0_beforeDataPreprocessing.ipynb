{
 "cells": [
  {
   "cell_type": "code",
   "execution_count": 11,
   "metadata": {},
   "outputs": [
    {
     "name": "stdout",
     "output_type": "stream",
     "text": [
      "All Files Renamed\n",
      "New Names are\n",
      "['blotch_24.jpg', 'blotch_30.jpg', 'blotch_18.jpg', 'blotch_19.jpg', 'blotch_25.jpg', 'blotch_27.jpg', 'blotch_26.jpg', 'blotch_22.jpg', 'blotch_23.jpg', 'blotch_21.jpg', 'blotch_20.jpg', 'blotch_8.jpg', 'blotch_9.jpg', 'blotch_1.jpg', 'blotch_2.jpg', 'blotch_3.jpg', 'blotch_7.jpg', 'blotch_6.jpg', 'blotch_4.jpg', 'blotch_5.jpg', 'blotch_11.jpg', 'blotch_10.jpg', 'blotch_12.jpg', 'blotch_13.jpg', 'blotch_17.jpg', 'blotch_16.jpg', 'blotch_28.jpg', 'blotch_14.jpg', 'blotch_15.jpg', 'blotch_29.jpg']\n"
     ]
    }
   ],
   "source": [
    "import os\n",
    "\n",
    "folder = 'data/Test/Blotch_Apple/'\n",
    "count = 1\n",
    "# count increase by 1 in each iteration\n",
    "# iterate all files from a directory\n",
    "for file_name in os.listdir(folder):\n",
    "    # Construct old file name\n",
    "    source = folder + file_name\n",
    "\n",
    "    # Adding the count to the new file name and extension\n",
    "    destination = folder + \"blotch_\" + str(count) + \".jpg\"\n",
    "\n",
    "    # Renaming the file\n",
    "    os.rename(source, destination)\n",
    "    count += 1\n",
    "print('All Files Renamed')\n",
    "\n",
    "print('New Names are')\n",
    "# verify the result\n",
    "res = os.listdir(folder)\n",
    "print(res)"
   ]
  },
  {
   "cell_type": "code",
   "execution_count": null,
   "metadata": {},
   "outputs": [],
   "source": []
  }
 ],
 "metadata": {
  "kernelspec": {
   "display_name": "Python 3 (ipykernel)",
   "language": "python",
   "name": "python3"
  },
  "language_info": {
   "codemirror_mode": {
    "name": "ipython",
    "version": 3
   },
   "file_extension": ".py",
   "mimetype": "text/x-python",
   "name": "python",
   "nbconvert_exporter": "python",
   "pygments_lexer": "ipython3",
   "version": "3.9.12"
  },
  "vscode": {
   "interpreter": {
    "hash": "ed663571a6b95854416caae2548ff2b282c207efa98e62a2556d9c76a2b9028c"
   }
  }
 },
 "nbformat": 4,
 "nbformat_minor": 4
}
