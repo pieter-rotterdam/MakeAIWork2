{
 "cells": [
  {
   "cell_type": "markdown",
   "metadata": {},
   "source": [
    "# Python 3's pathlib Module"
   ]
  },
  {
   "cell_type": "markdown",
   "metadata": {},
   "source": [
    "<div class=\"alert alert-block alert-success\">\n",
    "<b>Please note:</b> The pathlib library comes by default with Python 3.4 and above\n",
    "</div>"
   ]
  },
  {
   "cell_type": "markdown",
   "metadata": {},
   "source": [
    "**Why you should consider using `pathlib`?**\n",
    "- `pathlib` makes it super easy to work with files and interact with the file system\n",
    "- `pathlib` works accross all operating systems (Windows uses \\ while Mac and Linux use / as a separator)\n",
    "- `pathlib` is treating file paths as objects"
   ]
  },
  {
   "cell_type": "markdown",
   "metadata": {},
   "source": [
    "**Importing the main class:**"
   ]
  },
  {
   "cell_type": "code",
   "execution_count": 1,
   "metadata": {},
   "outputs": [],
   "source": [
    "from pathlib import Path"
   ]
  },
  {
   "cell_type": "markdown",
   "metadata": {},
   "source": [
    "**Get the home directory**"
   ]
  },
  {
   "cell_type": "code",
   "execution_count": 2,
   "metadata": {},
   "outputs": [
    {
     "data": {
      "text/plain": [
       "PosixPath('/Users/macbookpro')"
      ]
     },
     "execution_count": 2,
     "metadata": {},
     "output_type": "execute_result"
    }
   ],
   "source": [
    "home_dir = Path.home()\n",
    "home_dir"
   ]
  },
  {
   "cell_type": "markdown",
   "metadata": {},
   "source": [
    "**Get the path to the current working directory**"
   ]
  },
  {
   "cell_type": "code",
   "execution_count": 3,
   "metadata": {},
   "outputs": [
    {
     "data": {
      "text/plain": [
       "PosixPath('/Users/macbookpro/MakeAiWork2/projects/apple_disease_classification')"
      ]
     },
     "execution_count": 3,
     "metadata": {},
     "output_type": "execute_result"
    }
   ],
   "source": [
    "cwd = Path.cwd()\n",
    "cwd"
   ]
  },
  {
   "cell_type": "markdown",
   "metadata": {},
   "source": [
    "**Get the path to the current Python file (does not work in Jupyter Notebooks)**"
   ]
  },
  {
   "cell_type": "code",
   "execution_count": 4,
   "metadata": {},
   "outputs": [],
   "source": [
    "#curr_file = Path(__file__)\n",
    "# curr_file"
   ]
  },
  {
   "cell_type": "markdown",
   "metadata": {},
   "source": [
    "**Get the first parent folder path**"
   ]
  },
  {
   "cell_type": "code",
   "execution_count": 5,
   "metadata": {},
   "outputs": [
    {
     "data": {
      "text/plain": [
       "PosixPath('/Users/macbookpro/MakeAiWork2/projects')"
      ]
     },
     "execution_count": 5,
     "metadata": {},
     "output_type": "execute_result"
    }
   ],
   "source": [
    "one_above = Path.cwd().parent \n",
    "one_above"
   ]
  },
  {
   "cell_type": "markdown",
   "metadata": {},
   "source": [
    "**Get the Nth parent folder path**"
   ]
  },
  {
   "cell_type": "code",
   "execution_count": 6,
   "metadata": {},
   "outputs": [
    {
     "data": {
      "text/plain": [
       "PosixPath('/Users/macbookpro')"
      ]
     },
     "execution_count": 6,
     "metadata": {},
     "output_type": "execute_result"
    }
   ],
   "source": [
    "mul_above = Path.cwd().parents[2]\n",
    "mul_above"
   ]
  },
  {
   "cell_type": "markdown",
   "metadata": {},
   "source": [
    "**Join paths**"
   ]
  },
  {
   "cell_type": "code",
   "execution_count": 7,
   "metadata": {},
   "outputs": [
    {
     "data": {
      "text/plain": [
       "PosixPath('/Users/macbookpro/MakeAiWork2/projects/apple_disease_classification/Output')"
      ]
     },
     "execution_count": 7,
     "metadata": {},
     "output_type": "execute_result"
    }
   ],
   "source": [
    "joined_path = cwd / 'Output'\n",
    "joined_path"
   ]
  },
  {
   "cell_type": "markdown",
   "metadata": {},
   "source": [
    "**Create a directory if it does not exist**"
   ]
  },
  {
   "cell_type": "code",
   "execution_count": 8,
   "metadata": {},
   "outputs": [],
   "source": [
    "joined_path.mkdir(exist_ok=True)\n",
    "# exist_ok: to ignore 'FileExistsError'if the target directory already exists"
   ]
  },
  {
   "cell_type": "markdown",
   "metadata": {},
   "source": [
    "**Check if the path is a folder**"
   ]
  },
  {
   "cell_type": "code",
   "execution_count": 9,
   "metadata": {},
   "outputs": [
    {
     "data": {
      "text/plain": [
       "True"
      ]
     },
     "execution_count": 9,
     "metadata": {},
     "output_type": "execute_result"
    }
   ],
   "source": [
    "joined_path.is_dir()"
   ]
  },
  {
   "cell_type": "markdown",
   "metadata": {},
   "source": [
    "**Check if the path is a file**"
   ]
  },
  {
   "cell_type": "code",
   "execution_count": 10,
   "metadata": {},
   "outputs": [
    {
     "data": {
      "text/plain": [
       "False"
      ]
     },
     "execution_count": 10,
     "metadata": {},
     "output_type": "execute_result"
    }
   ],
   "source": [
    "example_file = cwd / \"somefile.txt\"\n",
    "example_file.is_file()"
   ]
  },
  {
   "cell_type": "markdown",
   "metadata": {},
   "source": [
    "**Get the file name**"
   ]
  },
  {
   "cell_type": "code",
   "execution_count": 11,
   "metadata": {},
   "outputs": [
    {
     "data": {
      "text/plain": [
       "'somefile.txt'"
      ]
     },
     "execution_count": 11,
     "metadata": {},
     "output_type": "execute_result"
    }
   ],
   "source": [
    "file_name = example_file.name\n",
    "file_name"
   ]
  },
  {
   "cell_type": "markdown",
   "metadata": {},
   "source": [
    "**Get the file name w/o extension**"
   ]
  },
  {
   "cell_type": "code",
   "execution_count": 12,
   "metadata": {},
   "outputs": [
    {
     "data": {
      "text/plain": [
       "'somefile'"
      ]
     },
     "execution_count": 12,
     "metadata": {},
     "output_type": "execute_result"
    }
   ],
   "source": [
    "file_name = example_file.stem\n",
    "file_name"
   ]
  },
  {
   "cell_type": "markdown",
   "metadata": {},
   "source": [
    "**Get the file extension**"
   ]
  },
  {
   "cell_type": "code",
   "execution_count": 13,
   "metadata": {},
   "outputs": [
    {
     "data": {
      "text/plain": [
       "'.txt'"
      ]
     },
     "execution_count": 13,
     "metadata": {},
     "output_type": "execute_result"
    }
   ],
   "source": [
    "file_extension = example_file.suffix\n",
    "file_extension"
   ]
  },
  {
   "cell_type": "markdown",
   "metadata": {},
   "source": [
    "**Iterate over files in a directory**"
   ]
  },
  {
   "cell_type": "code",
   "execution_count": 14,
   "metadata": {},
   "outputs": [
    {
     "ename": "FileNotFoundError",
     "evalue": "[Errno 2] No such file or directory: '/Users/macbookpro/MakeAiWork2/projects/apple_disease_classification/Sample Files'",
     "output_type": "error",
     "traceback": [
      "\u001b[0;31m---------------------------------------------------------------------------\u001b[0m",
      "\u001b[0;31mFileNotFoundError\u001b[0m                         Traceback (most recent call last)",
      "\u001b[1;32m/Users/macbookpro/MakeAiWork2/projects/apple_disease_classification/Pathlib_Tutorial.ipynb Cell 31\u001b[0m in \u001b[0;36m<cell line: 2>\u001b[0;34m()\u001b[0m\n\u001b[1;32m      <a href='vscode-notebook-cell:/Users/macbookpro/MakeAiWork2/projects/apple_disease_classification/Pathlib_Tutorial.ipynb#X42sZmlsZQ%3D%3D?line=0'>1</a>\u001b[0m target_dir \u001b[39m=\u001b[39m cwd \u001b[39m/\u001b[39m \u001b[39m\"\u001b[39m\u001b[39mSample Files\u001b[39m\u001b[39m\"\u001b[39m\n\u001b[0;32m----> <a href='vscode-notebook-cell:/Users/macbookpro/MakeAiWork2/projects/apple_disease_classification/Pathlib_Tutorial.ipynb#X42sZmlsZQ%3D%3D?line=1'>2</a>\u001b[0m \u001b[39mfor\u001b[39;00m file \u001b[39min\u001b[39;00m target_dir\u001b[39m.\u001b[39miterdir():\n\u001b[1;32m      <a href='vscode-notebook-cell:/Users/macbookpro/MakeAiWork2/projects/apple_disease_classification/Pathlib_Tutorial.ipynb#X42sZmlsZQ%3D%3D?line=2'>3</a>\u001b[0m     \u001b[39mprint\u001b[39m(file)\n",
      "File \u001b[0;32m~/anaconda3/lib/python3.9/pathlib.py:1160\u001b[0m, in \u001b[0;36mPath.iterdir\u001b[0;34m(self)\u001b[0m\n\u001b[1;32m   1156\u001b[0m \u001b[39mdef\u001b[39;00m \u001b[39miterdir\u001b[39m(\u001b[39mself\u001b[39m):\n\u001b[1;32m   1157\u001b[0m     \u001b[39m\"\"\"Iterate over the files in this directory.  Does not yield any\u001b[39;00m\n\u001b[1;32m   1158\u001b[0m \u001b[39m    result for the special paths '.' and '..'.\u001b[39;00m\n\u001b[1;32m   1159\u001b[0m \u001b[39m    \"\"\"\u001b[39;00m\n\u001b[0;32m-> 1160\u001b[0m     \u001b[39mfor\u001b[39;00m name \u001b[39min\u001b[39;00m \u001b[39mself\u001b[39;49m\u001b[39m.\u001b[39;49m_accessor\u001b[39m.\u001b[39;49mlistdir(\u001b[39mself\u001b[39;49m):\n\u001b[1;32m   1161\u001b[0m         \u001b[39mif\u001b[39;00m name \u001b[39min\u001b[39;00m {\u001b[39m'\u001b[39m\u001b[39m.\u001b[39m\u001b[39m'\u001b[39m, \u001b[39m'\u001b[39m\u001b[39m..\u001b[39m\u001b[39m'\u001b[39m}:\n\u001b[1;32m   1162\u001b[0m             \u001b[39m# Yielding a path object for these makes little sense\u001b[39;00m\n\u001b[1;32m   1163\u001b[0m             \u001b[39mcontinue\u001b[39;00m\n",
      "\u001b[0;31mFileNotFoundError\u001b[0m: [Errno 2] No such file or directory: '/Users/macbookpro/MakeAiWork2/projects/apple_disease_classification/Sample Files'"
     ]
    }
   ],
   "source": [
    "target_dir = cwd / \"Sample Files\"\n",
    "for file in target_dir.iterdir():\n",
    "    print(file)"
   ]
  },
  {
   "cell_type": "markdown",
   "metadata": {},
   "source": [
    "**Iterate over files in a directory combined with suffix**"
   ]
  },
  {
   "cell_type": "code",
   "execution_count": null,
   "metadata": {},
   "outputs": [
    {
     "name": "stdout",
     "output_type": "stream",
     "text": [
      "C:\\Users\\Bananatree\\Desktop\\pathlib_tutorial\\Sample Files\\Sample_Workbook.xlsx\n",
      "C:\\Users\\Bananatree\\Desktop\\pathlib_tutorial\\Sample Files\\Sample_Workbook_1.xlsx\n",
      "C:\\Users\\Bananatree\\Desktop\\pathlib_tutorial\\Sample Files\\Sample_Workbook_2.xlsx\n",
      "C:\\Users\\Bananatree\\Desktop\\pathlib_tutorial\\Sample Files\\Sample_Workbook_3.xlsx\n"
     ]
    }
   ],
   "source": [
    "for file in target_dir.iterdir():\n",
    "    if file.suffix == \".xlsx\":\n",
    "        print(file)"
   ]
  },
  {
   "cell_type": "markdown",
   "metadata": {},
   "source": [
    "**Iterate over files in a directory incl. sub folder(s)**"
   ]
  },
  {
   "cell_type": "code",
   "execution_count": null,
   "metadata": {},
   "outputs": [
    {
     "name": "stdout",
     "output_type": "stream",
     "text": [
      "C:\\Users\\Bananatree\\Desktop\\pathlib_tutorial\\Sample Files\\desktop.ini\n",
      "C:\\Users\\Bananatree\\Desktop\\pathlib_tutorial\\Sample Files\\More_Samples\n",
      "C:\\Users\\Bananatree\\Desktop\\pathlib_tutorial\\Sample Files\\Sample_Photo.png\n",
      "C:\\Users\\Bananatree\\Desktop\\pathlib_tutorial\\Sample Files\\Sample_TextFile.txt\n",
      "C:\\Users\\Bananatree\\Desktop\\pathlib_tutorial\\Sample Files\\Sample_Workbook.xlsx\n",
      "C:\\Users\\Bananatree\\Desktop\\pathlib_tutorial\\Sample Files\\Sample_Workbook_1.xlsx\n",
      "C:\\Users\\Bananatree\\Desktop\\pathlib_tutorial\\Sample Files\\Sample_Workbook_2.xlsx\n",
      "C:\\Users\\Bananatree\\Desktop\\pathlib_tutorial\\Sample Files\\Sample_Workbook_3.xlsx\n",
      "C:\\Users\\Bananatree\\Desktop\\pathlib_tutorial\\Sample Files\\More_Samples\\Sample_Workbook_4.xlsx\n",
      "C:\\Users\\Bananatree\\Desktop\\pathlib_tutorial\\Sample Files\\More_Samples\\Sample_Workbook_5.xlsx\n",
      "C:\\Users\\Bananatree\\Desktop\\pathlib_tutorial\\Sample Files\\More_Samples\\Sample_Workbook_6.xlsx\n"
     ]
    }
   ],
   "source": [
    "for file in target_dir.rglob(\"*\"):\n",
    "    print(file)"
   ]
  },
  {
   "cell_type": "markdown",
   "metadata": {},
   "source": [
    "<div class=\"alert alert-block alert-info\">\n",
    "<h4>📚 Further reading:</h4>\n",
    "<ul>\n",
    "  <li>https://realpython.com/python-pathlib/</li>\n",
    "  <li>https://docs.python.org/3/library/pathlib.html</li>\n",
    "</ul>\n",
    "</div>"
   ]
  }
 ],
 "metadata": {
  "kernelspec": {
   "display_name": "Python 3.9.12 ('base')",
   "language": "python",
   "name": "python3"
  },
  "language_info": {
   "codemirror_mode": {
    "name": "ipython",
    "version": 3
   },
   "file_extension": ".py",
   "mimetype": "text/x-python",
   "name": "python",
   "nbconvert_exporter": "python",
   "pygments_lexer": "ipython3",
   "version": "3.9.12"
  },
  "vscode": {
   "interpreter": {
    "hash": "ed663571a6b95854416caae2548ff2b282c207efa98e62a2556d9c76a2b9028c"
   }
  }
 },
 "nbformat": 4,
 "nbformat_minor": 4
}
