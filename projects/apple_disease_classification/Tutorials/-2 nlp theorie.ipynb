{
 "cells": [
  {
   "cell_type": "markdown",
   "metadata": {},
   "source": [
    "**sequence data\n",
    "representing words: one hot vector representation\n",
    "\n",
    "in grote dataset zijn woorden vervangen door tokens, 1 woord kan dan uit meerdere tokens bestaan\n",
    "\n",
    "bert-extractive-summarizer\n",
    "sentence-transformers\n",
    "spacy\n",
    "transformers"
   ]
  }
 ],
 "metadata": {
  "kernelspec": {
   "display_name": "Python 3.9.12 ('base')",
   "language": "python",
   "name": "python3"
  },
  "language_info": {
   "name": "python",
   "version": "3.9.12"
  },
  "orig_nbformat": 4,
  "vscode": {
   "interpreter": {
    "hash": "ed663571a6b95854416caae2548ff2b282c207efa98e62a2556d9c76a2b9028c"
   }
  }
 },
 "nbformat": 4,
 "nbformat_minor": 2
}
