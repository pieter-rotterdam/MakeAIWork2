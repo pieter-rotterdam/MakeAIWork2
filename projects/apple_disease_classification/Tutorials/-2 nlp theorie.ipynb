{
 "cells": [
  {
   "cell_type": "markdown",
   "metadata": {},
   "source": [
    "**sequence data\n",
    "representing words: one hot vector representation\n",
    "\n",
    "in grote dataset zijn woorden vervangen door tokens, 1 woord kan dan uit meerdere tokens bestaan\n",
    "\n",
    "recurrent neural network\n",
    "\n",
    "de hidden layer is een representatie van de input - niet perse het label, maar meer een bewerkte array. let in de weergave op de richting van de pijlen voor beter begrip.\n",
    "\n",
    "bij sigmoid wordt het getal steeds kleiner (deminishing gradients) RELU heeft daar geen last van.\n",
    "\n",
    "LSTM - long short term memory - werkt met gates en cell states\n",
    "\n",
    "maakt gebruik van word embeddings / analogieen:\n",
    "hij leert man staat tot vrouw als jongen staat tot meisje\n",
    "\n",
    "\n",
    "Bert - gebruiken voor chatbot = encoder die van tekst naar getallen gaat\n",
    "GPT decoder - getallen naar tekst. deze is lastiger en niet verplicht\n",
    "\n",
    "2 soorten chatbots - zelf bepalen welke je gaat maken\n",
    "1.standaard antwoorden\n",
    "er is een vraag en er is een vast aantal antwoorden die de chatbot kan terug geven:\n",
    "mijn product is stuk, wat nu?\n",
    "bij welk van de 5 voorgeprogrammeerde antwoorden past dit het beste?\n",
    "kan zonder decoder\n",
    "\n",
    "2.generatieve antwoorden\n",
    "is met decoder en kan unieke antwoorden terug geven, niet verplicht.\n",
    "hij genereert het zelf en is daardoor minder voorspelbaar.\n",
    "\n",
    "sbert.net kun je gebruiken om zinnen te encoderen.\n",
    "\n",
    "stories: \n",
    "- SBERT gebruiken om zinnen te encoderen\n",
    "- antwoorden maken \n",
    "- input en output matchen\n",
    "- antwoorden terug aan gebruiker\n"
   ]
  }
 ],
 "metadata": {
  "kernelspec": {
   "display_name": "Python 3.9.12 ('base')",
   "language": "python",
   "name": "python3"
  },
  "language_info": {
   "name": "python",
   "version": "3.9.12"
  },
  "orig_nbformat": 4,
  "vscode": {
   "interpreter": {
    "hash": "ed663571a6b95854416caae2548ff2b282c207efa98e62a2556d9c76a2b9028c"
   }
  }
 },
 "nbformat": 4,
 "nbformat_minor": 2
}
