{
 "cells": [
  {
   "cell_type": "markdown",
   "metadata": {},
   "source": [
    "https://www.tensorflow.org/hub/tutorials/cropnet_on_device"
   ]
  },
  {
   "cell_type": "markdown",
   "metadata": {},
   "source": [
    "def random_crop_and_random_augmentations_fn(image):\n",
    "  # preprocess_for_train does random crop and resize internally.\n",
    "  image = image_preprocessing.preprocess_for_train(image)\n",
    "  image = tf.image.random_brightness(image, 0.2)\n",
    "  image = tf.image.random_contrast(image, 0.5, 2.0)\n",
    "  image = tf.image.random_saturation(image, 0.75, 1.25)\n",
    "  image = tf.image.random_hue(image, 0.1)\n",
    "  return image\n",
    "\n",
    "\n",
    "def random_crop_fn(image):\n",
    "  # preprocess_for_train does random crop and resize internally.\n",
    "  image = image_preprocessing.preprocess_for_train(image)\n",
    "  return image\n",
    "\n",
    "\n",
    "def resize_and_center_crop_fn(image):\n",
    "  image = tf.image.resize(image, (256, 256))\n",
    "  image = image[16:240, 16:240]\n",
    "  return image\n",
    "\n",
    "\n",
    "no_augment_fn = lambda image: image\n",
    "\n",
    "train_augment_fn = lambda image, label: (\n",
    "    random_crop_and_random_augmentations_fn(image), label)\n",
    "eval_augment_fn = lambda image, label: (resize_and_center_crop_fn(image), label)"
   ]
  },
  {
   "cell_type": "markdown",
   "metadata": {},
   "source": [
    "ds_train_with_unknown = ds_train_with_unknown.map(train_augment_fn)\n",
    "ds_validation = ds_validation.map(eval_augment_fn)\n",
    "ds_test = ds_test.map(eval_augment_fn)\n",
    "ds_unknown_test = ds_unknown_test.map(eval_augment_fn)"
   ]
  },
  {
   "cell_type": "markdown",
   "metadata": {},
   "source": [
    "https://www.tensorflow.org/tutorials/images/transfer_learning"
   ]
  },
  {
   "cell_type": "markdown",
   "metadata": {},
   "source": [
    "data_augmentation = tf.keras.Sequential([\n",
    "  tf.keras.layers.RandomFlip('horizontal'),\n",
    "  tf.keras.layers.RandomRotation(0.2),\n",
    "])"
   ]
  },
  {
   "cell_type": "markdown",
   "metadata": {},
   "source": [
    "for image, _ in train_dataset.take(1):\n",
    "  plt.figure(figsize=(10, 10))\n",
    "  first_image = image[0]\n",
    "  for i in range(9):\n",
    "    ax = plt.subplot(3, 3, i + 1)\n",
    "    augmented_image = data_augmentation(tf.expand_dims(first_image, 0))\n",
    "    plt.imshow(augmented_image[0] / 255)\n",
    "    plt.axis('off')"
   ]
  },
  {
   "cell_type": "markdown",
   "metadata": {},
   "source": [
    "https://www.tensorflow.org/tutorials/images/data_augmentation\n",
    "\n",
    "data_augmentation = tf.keras.Sequential([\n",
    "  layers.RandomFlip(\"horizontal_and_vertical\"),\n",
    "  layers.RandomRotation(0.2),\n",
    "])"
   ]
  },
  {
   "cell_type": "markdown",
   "metadata": {},
   "source": [
    "option 1: make it part of your model\n",
    "https://www.tensorflow.org/tutorials/images/data_augmentation#option_1_make_the_preprocessing_layers_part_of_your_model\n",
    "\n",
    "option2: do it as preprocessing\n",
    "https://www.tensorflow.org/tutorials/images/data_augmentation#option_2_apply_the_preprocessing_layers_to_your_dataset"
   ]
  },
  {
   "cell_type": "markdown",
   "metadata": {},
   "source": [
    "aug_ds = train_ds.map(\n",
    "  lambda x, y: (resize_and_rescale(x, training=True), y))"
   ]
  },
  {
   "cell_type": "code",
   "execution_count": 2,
   "metadata": {},
   "outputs": [
    {
     "name": "stdout",
     "output_type": "stream",
     "text": [
      "boy\n"
     ]
    }
   ],
   "source": [
    "print (\"boy\")"
   ]
  },
  {
   "cell_type": "code",
   "execution_count": null,
   "metadata": {},
   "outputs": [],
   "source": []
  }
 ],
 "metadata": {
  "kernelspec": {
   "display_name": "Python 3.9.12 ('base')",
   "language": "python",
   "name": "python3"
  },
  "language_info": {
   "codemirror_mode": {
    "name": "ipython",
    "version": 3
   },
   "file_extension": ".py",
   "mimetype": "text/x-python",
   "name": "python",
   "nbconvert_exporter": "python",
   "pygments_lexer": "ipython3",
   "version": "3.9.12"
  },
  "orig_nbformat": 4,
  "vscode": {
   "interpreter": {
    "hash": "ed663571a6b95854416caae2548ff2b282c207efa98e62a2556d9c76a2b9028c"
   }
  }
 },
 "nbformat": 4,
 "nbformat_minor": 2
}
