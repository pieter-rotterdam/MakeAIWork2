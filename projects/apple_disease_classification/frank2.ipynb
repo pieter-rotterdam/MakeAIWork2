{
 "cells": [
  {
   "cell_type": "code",
   "execution_count": 11,
   "metadata": {},
   "outputs": [],
   "source": [
    "import collections\n",
    "import io\n",
    "import math\n",
    "import os\n",
    "import random\n",
    "from six.moves import urllib\n",
    "\n",
    "from IPython.display import clear_output, Image, display, HTML\n",
    "\n",
    "import tensorflow.compat.v1 as tf\n",
    "tf.disable_v2_behavior()\n",
    "\n",
    "import tensorflow_hub as hub\n",
    "\n",
    "import numpy as np\n",
    "import matplotlib.pyplot as plt\n",
    "import seaborn as sns\n",
    "import sklearn.metrics as sk_metrics\n",
    "import time"
   ]
  },
  {
   "cell_type": "code",
   "execution_count": 25,
   "metadata": {},
   "outputs": [],
   "source": [
    "APPLES_DIR = 'data'\n",
    "TRAIN_FRACTION = 0.8\n",
    "RANDOM_SEED = 2018\n",
    "\n",
    "\n",
    "def download_images():\n",
    "  \"\"\"If the images aren't already downloaded, save them to APPLES_DIR.\"\"\"\n",
    "  if not os.path.exists(APPLES_DIR):\n",
    "    DOWNLOAD_URL = 'http://download.tensorflow.org/example_images/flower_photos.tgz'\n",
    "    print('Downloading flower images from %s...' % DOWNLOAD_URL)\n",
    "    urllib.request.urlretrieve(DOWNLOAD_URL, 'flower_photos.tgz')\n",
    "    !tar xfz flower_photos.tgz\n",
    "  print('Apple photos are located in %s' % APPLES_DIR)\n",
    "\n",
    "\n",
    "def make_train_and_test_sets():\n",
    "  \"\"\"Split the data into train and test sets and get the label classes.\"\"\"\n",
    "  train_examples, test_examples = [], []\n",
    "  shuffler = random.Random(RANDOM_SEED)\n",
    "  is_root = True\n",
    "  for (dirname, subdirs, filenames) in tf.gfile.Walk(APPLES_DIR):\n",
    "    # The root directory gives us the classes\n",
    "    if is_root:\n",
    "      subdirs = sorted(subdirs)\n",
    "      classes = collections.OrderedDict(enumerate(subdirs))\n",
    "      label_to_class = dict([(x, i) for i, x in enumerate(subdirs)])\n",
    "      is_root = False\n",
    "    # The sub directories give us the image files for training.\n",
    "    else:\n",
    "      filenames.sort()\n",
    "      shuffler.shuffle(filenames)\n",
    "      full_filenames = [os.path.join(dirname, f) for f in filenames]\n",
    "      label = dirname.split('/')[-1]\n",
    "      label_class = label_to_class[label]\n",
    "      # An example is the image file and it's label class.\n",
    "      examples = list(zip(full_filenames, [label_class] * len(filenames)))\n",
    "      num_train = int(len(filenames) * TRAIN_FRACTION)\n",
    "      train_examples.extend(examples[:num_train])\n",
    "      test_examples.extend(examples[num_train:])\n",
    "\n",
    "  shuffler.shuffle(train_examples)\n",
    "  shuffler.shuffle(test_examples)\n",
    "  return train_examples, test_examples, classes"
   ]
  },
  {
   "cell_type": "code",
   "execution_count": 26,
   "metadata": {},
   "outputs": [
    {
     "name": "stdout",
     "output_type": "stream",
     "text": [
      "Apple photos are located in data\n"
     ]
    },
    {
     "ename": "KeyError",
     "evalue": "'BlotchApple'",
     "output_type": "error",
     "traceback": [
      "\u001b[0;31m---------------------------------------------------------------------------\u001b[0m",
      "\u001b[0;31mKeyError\u001b[0m                                  Traceback (most recent call last)",
      "\u001b[1;32m/Users/macbookpro/MakeAiWork2/projects/apple_disease_classification/frank2.ipynb Cell 3\u001b[0m in \u001b[0;36m<cell line: 3>\u001b[0;34m()\u001b[0m\n\u001b[1;32m      <a href='vscode-notebook-cell:/Users/macbookpro/MakeAiWork2/projects/apple_disease_classification/frank2.ipynb#W5sZmlsZQ%3D%3D?line=0'>1</a>\u001b[0m \u001b[39m# Download the images and split the images into train and test sets.\u001b[39;00m\n\u001b[1;32m      <a href='vscode-notebook-cell:/Users/macbookpro/MakeAiWork2/projects/apple_disease_classification/frank2.ipynb#W5sZmlsZQ%3D%3D?line=1'>2</a>\u001b[0m download_images()\n\u001b[0;32m----> <a href='vscode-notebook-cell:/Users/macbookpro/MakeAiWork2/projects/apple_disease_classification/frank2.ipynb#W5sZmlsZQ%3D%3D?line=2'>3</a>\u001b[0m TRAIN_EXAMPLES, TEST_EXAMPLES, CLASSES \u001b[39m=\u001b[39m make_train_and_test_sets()\n\u001b[1;32m      <a href='vscode-notebook-cell:/Users/macbookpro/MakeAiWork2/projects/apple_disease_classification/frank2.ipynb#W5sZmlsZQ%3D%3D?line=3'>4</a>\u001b[0m NUM_CLASSES \u001b[39m=\u001b[39m \u001b[39mlen\u001b[39m(CLASSES)\n\u001b[1;32m      <a href='vscode-notebook-cell:/Users/macbookpro/MakeAiWork2/projects/apple_disease_classification/frank2.ipynb#W5sZmlsZQ%3D%3D?line=5'>6</a>\u001b[0m \u001b[39mprint\u001b[39m(\u001b[39m'\u001b[39m\u001b[39m\\n\u001b[39;00m\u001b[39mThe dataset has \u001b[39m\u001b[39m%d\u001b[39;00m\u001b[39m label classes: \u001b[39m\u001b[39m%s\u001b[39;00m\u001b[39m'\u001b[39m \u001b[39m%\u001b[39m (NUM_CLASSES, CLASSES\u001b[39m.\u001b[39mvalues()))\n",
      "\u001b[1;32m/Users/macbookpro/MakeAiWork2/projects/apple_disease_classification/frank2.ipynb Cell 3\u001b[0m in \u001b[0;36mmake_train_and_test_sets\u001b[0;34m()\u001b[0m\n\u001b[1;32m     <a href='vscode-notebook-cell:/Users/macbookpro/MakeAiWork2/projects/apple_disease_classification/frank2.ipynb#W5sZmlsZQ%3D%3D?line=31'>32</a>\u001b[0m full_filenames \u001b[39m=\u001b[39m [os\u001b[39m.\u001b[39mpath\u001b[39m.\u001b[39mjoin(dirname, f) \u001b[39mfor\u001b[39;00m f \u001b[39min\u001b[39;00m filenames]\n\u001b[1;32m     <a href='vscode-notebook-cell:/Users/macbookpro/MakeAiWork2/projects/apple_disease_classification/frank2.ipynb#W5sZmlsZQ%3D%3D?line=32'>33</a>\u001b[0m label \u001b[39m=\u001b[39m dirname\u001b[39m.\u001b[39msplit(\u001b[39m'\u001b[39m\u001b[39m/\u001b[39m\u001b[39m'\u001b[39m)[\u001b[39m-\u001b[39m\u001b[39m1\u001b[39m]\n\u001b[0;32m---> <a href='vscode-notebook-cell:/Users/macbookpro/MakeAiWork2/projects/apple_disease_classification/frank2.ipynb#W5sZmlsZQ%3D%3D?line=33'>34</a>\u001b[0m label_class \u001b[39m=\u001b[39m label_to_class[label]\n\u001b[1;32m     <a href='vscode-notebook-cell:/Users/macbookpro/MakeAiWork2/projects/apple_disease_classification/frank2.ipynb#W5sZmlsZQ%3D%3D?line=34'>35</a>\u001b[0m \u001b[39m# An example is the image file and it's label class.\u001b[39;00m\n\u001b[1;32m     <a href='vscode-notebook-cell:/Users/macbookpro/MakeAiWork2/projects/apple_disease_classification/frank2.ipynb#W5sZmlsZQ%3D%3D?line=35'>36</a>\u001b[0m examples \u001b[39m=\u001b[39m \u001b[39mlist\u001b[39m(\u001b[39mzip\u001b[39m(full_filenames, [label_class] \u001b[39m*\u001b[39m \u001b[39mlen\u001b[39m(filenames)))\n",
      "\u001b[0;31mKeyError\u001b[0m: 'BlotchApple'"
     ]
    }
   ],
   "source": [
    "# Download the images and split the images into train and test sets.\n",
    "download_images()\n",
    "TRAIN_EXAMPLES, TEST_EXAMPLES, CLASSES = make_train_and_test_sets()\n",
    "NUM_CLASSES = len(CLASSES)\n",
    "\n",
    "print('\\nThe dataset has %d label classes: %s' % (NUM_CLASSES, CLASSES.values()))\n",
    "print('There are %d training images' % len(TRAIN_EXAMPLES))\n",
    "print('there are %d test images' % len(TEST_EXAMPLES))"
   ]
  },
  {
   "cell_type": "code",
   "execution_count": 19,
   "metadata": {},
   "outputs": [],
   "source": []
  }
 ],
 "metadata": {
  "kernelspec": {
   "display_name": "Python 3.9.12 ('base')",
   "language": "python",
   "name": "python3"
  },
  "language_info": {
   "codemirror_mode": {
    "name": "ipython",
    "version": 3
   },
   "file_extension": ".py",
   "mimetype": "text/x-python",
   "name": "python",
   "nbconvert_exporter": "python",
   "pygments_lexer": "ipython3",
   "version": "3.9.12"
  },
  "orig_nbformat": 4,
  "vscode": {
   "interpreter": {
    "hash": "ed663571a6b95854416caae2548ff2b282c207efa98e62a2556d9c76a2b9028c"
   }
  }
 },
 "nbformat": 4,
 "nbformat_minor": 2
}
