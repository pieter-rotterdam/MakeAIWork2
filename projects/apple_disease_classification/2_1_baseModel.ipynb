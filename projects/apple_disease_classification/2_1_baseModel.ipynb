{
 "cells": [
  {
   "cell_type": "markdown",
   "metadata": {
    "id": "wwZavzgsIytz"
   },
   "source": [
    "To train a model with this dataset you will want the data:\n",
    "\n",
    "* To be well shuffled.\n",
    "* To be batched.\n",
    "* Batches to be available as soon as possible.\n",
    "\n",
    "These features can be added using the `tf.data` API. For more details, visit the [Input Pipeline Performance](../../guide/performance/datasets.ipynb) guide."
   ]
  },
  {
   "cell_type": "code",
   "execution_count": null,
   "metadata": {},
   "outputs": [],
   "source": [
    "# AUTOTUNE IS EEN EXPIRIMENT VOOR LATER, ZORGT ER NU VOOR DAT MODEL NIET GOED LAADT VOOR TRAINING\n",
    "\n",
    "# AUTOTUNE = tf.data.AUTOTUNE \n",
    "\n",
    "# # train_ds = train_ds.cache().prefetch(buffer_size=AUTOTUNE)\n",
    "# # val_ds = val_ds.cache().prefetch(buffer_size=AUTOTUNE)\n",
    "\n",
    "# def configure_for_performance(ds):\n",
    "#   ds = ds.cache()\n",
    "#   ds = ds.shuffle(buffer_size=1000)\n",
    "#   ds = ds.batch(batch_size)\n",
    "#   ds = ds.prefetch(buffer_size=AUTOTUNE)\n",
    "#   return ds\n",
    "\n",
    "# train_ds = configure_for_performance(train_ds)\n",
    "# val_ds = configure_for_performance(val_ds)\n",
    "# test_ds = configure_for_performance(test_ds)"
   ]
  },
  {
   "cell_type": "code",
   "execution_count": 16,
   "metadata": {},
   "outputs": [],
   "source": [
    "import tensorflow as tf\n",
    "from tensorflow import keras\n",
    "from tensorflow.keras import datasets, layers, models"
   ]
  },
  {
   "cell_type": "markdown",
   "metadata": {},
   "source": [
    "PARAMETERS"
   ]
  },
  {
   "cell_type": "code",
   "execution_count": 19,
   "metadata": {},
   "outputs": [],
   "source": [
    "img_height = 100\n",
    "img_width = 100\n",
    "image_size=(img_height, img_width)\n",
    "batch_size = 32"
   ]
  },
  {
   "cell_type": "code",
   "execution_count": 20,
   "metadata": {
    "execution": {
     "iopub.execute_input": "2022-07-12T01:23:26.815318Z",
     "iopub.status.busy": "2022-07-12T01:23:26.814852Z",
     "iopub.status.idle": "2022-07-12T01:23:26.831265Z",
     "shell.execute_reply": "2022-07-12T01:23:26.830680Z"
    },
    "id": "LdR0BzCcqxw0"
   },
   "outputs": [],
   "source": [
    "num_classes = 4\n",
    "\n",
    "model = tf.keras.Sequential([\n",
    "  tf.keras.layers.Rescaling(1./255, input_shape=(img_height, img_width, 3)),\n",
    "  tf.keras.layers.Conv2D(32, 3, activation='relu'),\n",
    "  tf.keras.layers.MaxPooling2D(),\n",
    "  tf.keras.layers.Conv2D(32, 3, activation='relu'),\n",
    "  tf.keras.layers.MaxPooling2D(),\n",
    "  tf.keras.layers.Conv2D(32, 3, activation='relu'),\n",
    "  tf.keras.layers.MaxPooling2D(),\n",
    "  tf.keras.layers.Flatten(),\n",
    "  tf.keras.layers.Dense(128, activation='relu'),\n",
    "  tf.keras.layers.Dense(num_classes)\n",
    "])"
   ]
  },
  {
   "cell_type": "markdown",
   "metadata": {},
   "source": [
    "# model.add(layers.Rescaling(1./255,"
   ]
  },
  {
   "cell_type": "markdown",
   "metadata": {
    "id": "d83f5aa7f3fb"
   },
   "source": [
    "Choose the `tf.keras.optimizers.Adam` optimizer and `tf.keras.losses.SparseCategoricalCrossentropy` loss function. To view training and validation accuracy for each training epoch, pass the `metrics` argument to `Model.compile`."
   ]
  },
  {
   "cell_type": "code",
   "execution_count": 21,
   "metadata": {
    "execution": {
     "iopub.execute_input": "2022-07-12T01:23:26.834631Z",
     "iopub.status.busy": "2022-07-12T01:23:26.834099Z",
     "iopub.status.idle": "2022-07-12T01:23:26.844417Z",
     "shell.execute_reply": "2022-07-12T01:23:26.843875Z"
    },
    "id": "t_BlmsnmsEr4"
   },
   "outputs": [],
   "source": [
    "model.compile(\n",
    "  optimizer='adam',\n",
    "  loss=tf.keras.losses.SparseCategoricalCrossentropy,\n",
    "  metrics=['accuracy']\n",
    ")"
   ]
  },
  {
   "cell_type": "markdown",
   "metadata": {},
   "source": [
    "compile(\n",
    "    optimizer='rmsprop',\n",
    "    loss=None,\n",
    "    metrics=None,\n",
    "    loss_weights=None,\n",
    "    weighted_metrics=None,\n",
    "    run_eagerly=None,\n",
    "    steps_per_execution=None,\n",
    "    jit_compile=None,\n",
    "    **kwargs\n",
    ")"
   ]
  },
  {
   "cell_type": "code",
   "execution_count": 22,
   "metadata": {},
   "outputs": [
    {
     "name": "stdout",
     "output_type": "stream",
     "text": [
      "Model: \"sequential_2\"\n",
      "_________________________________________________________________\n",
      " Layer (type)                Output Shape              Param #   \n",
      "=================================================================\n",
      " rescaling_2 (Rescaling)     (None, 100, 100, 3)       0         \n",
      "                                                                 \n",
      " conv2d_6 (Conv2D)           (None, 98, 98, 32)        896       \n",
      "                                                                 \n",
      " max_pooling2d_6 (MaxPooling  (None, 49, 49, 32)       0         \n",
      " 2D)                                                             \n",
      "                                                                 \n",
      " conv2d_7 (Conv2D)           (None, 47, 47, 32)        9248      \n",
      "                                                                 \n",
      " max_pooling2d_7 (MaxPooling  (None, 23, 23, 32)       0         \n",
      " 2D)                                                             \n",
      "                                                                 \n",
      " conv2d_8 (Conv2D)           (None, 21, 21, 32)        9248      \n",
      "                                                                 \n",
      " max_pooling2d_8 (MaxPooling  (None, 10, 10, 32)       0         \n",
      " 2D)                                                             \n",
      "                                                                 \n",
      " flatten_2 (Flatten)         (None, 3200)              0         \n",
      "                                                                 \n",
      " dense_4 (Dense)             (None, 128)               409728    \n",
      "                                                                 \n",
      " dense_5 (Dense)             (None, 4)                 516       \n",
      "                                                                 \n",
      "=================================================================\n",
      "Total params: 429,636\n",
      "Trainable params: 429,636\n",
      "Non-trainable params: 0\n",
      "_________________________________________________________________\n"
     ]
    }
   ],
   "source": [
    "model.summary()"
   ]
  },
  {
   "cell_type": "markdown",
   "metadata": {
    "id": "ffwd44ldNMOE"
   },
   "source": [
    "Note: You will only train for a few epochs so this tutorial runs quickly. "
   ]
  },
  {
   "cell_type": "code",
   "execution_count": null,
   "metadata": {
    "execution": {
     "iopub.execute_input": "2022-07-12T01:23:26.847829Z",
     "iopub.status.busy": "2022-07-12T01:23:26.847370Z",
     "iopub.status.idle": "2022-07-12T01:23:37.497066Z",
     "shell.execute_reply": "2022-07-12T01:23:37.496387Z"
    },
    "id": "S08ZKKODsnGW"
   },
   "outputs": [
    {
     "name": "stdout",
     "output_type": "stream",
     "text": [
      "Epoch 1/3\n",
      "10/10 [==============================] - 14s 1s/step - loss: 0.5230 - accuracy: 0.8072 - val_loss: 0.6810 - val_accuracy: 0.7500\n",
      "Epoch 2/3\n",
      "10/10 [==============================] - 14s 1s/step - loss: 0.4019 - accuracy: 0.8562 - val_loss: 0.8207 - val_accuracy: 0.7368\n",
      "Epoch 3/3\n",
      "10/10 [==============================] - 14s 1s/step - loss: 0.2325 - accuracy: 0.9281 - val_loss: 0.8441 - val_accuracy: 0.7368\n"
     ]
    },
    {
     "data": {
      "text/plain": [
       "<keras.callbacks.History at 0x7ff0c180dd60>"
      ]
     },
     "metadata": {},
     "output_type": "display_data"
    }
   ],
   "source": [
    "model.fit(\n",
    "  train_ds,\n",
    "  validation_data=val_ds,\n",
    "  epochs=3\n",
    ")"
   ]
  },
  {
   "cell_type": "markdown",
   "metadata": {
    "id": "MEtT9YGjSAOK"
   },
   "source": [
    "Note: You can also write a custom training loop instead of using `Model.fit`. To learn more, visit the [Writing a training loop from scratch](https://www.tensorflow.org/guide/keras/writing_a_training_loop_from_scratch) tutorial."
   ]
  }
 ],
 "metadata": {
  "kernelspec": {
   "display_name": "Python 3.9.12 ('base')",
   "language": "python",
   "name": "python3"
  },
  "language_info": {
   "codemirror_mode": {
    "name": "ipython",
    "version": 3
   },
   "file_extension": ".py",
   "mimetype": "text/x-python",
   "name": "python",
   "nbconvert_exporter": "python",
   "pygments_lexer": "ipython3",
   "version": "3.9.12"
  },
  "orig_nbformat": 4,
  "vscode": {
   "interpreter": {
    "hash": "ed663571a6b95854416caae2548ff2b282c207efa98e62a2556d9c76a2b9028c"
   }
  }
 },
 "nbformat": 4,
 "nbformat_minor": 2
}
