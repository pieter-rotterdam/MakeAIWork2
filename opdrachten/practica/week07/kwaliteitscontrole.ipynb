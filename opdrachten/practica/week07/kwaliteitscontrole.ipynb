{
 "cells": [
  {
   "cell_type": "markdown",
   "id": "4bdbdeaa-79d8-416d-91b6-0566f3f2eaf4",
   "metadata": {
    "tags": []
   },
   "source": [
    "# Statistische kwaliteitscontrole"
   ]
  },
  {
   "cell_type": "markdown",
   "id": "64960ef1-4dce-4f48-b69f-fc48178fdc2c",
   "metadata": {},
   "source": [
    "![quality](quality.jpg)"
   ]
  },
  {
   "cell_type": "markdown",
   "id": "d1af3142-d8be-4a22-a21b-d058fae53330",
   "metadata": {},
   "source": [
    "## Situatie"
   ]
  },
  {
   "cell_type": "markdown",
   "id": "1a944e91-9e18-42cc-b419-7d3f2c7d655e",
   "metadata": {},
   "source": [
    "De firma Glow BV produceert lampen.\n",
    "\n",
    "- Bekend is dat **2%** van de productie defecten bevat\n",
    "- De dagproductie bestaat uit **75.000 lampen**"
   ]
  },
  {
   "cell_type": "markdown",
   "id": "3ad208d3-066d-4c7e-a4c7-8456202b308d",
   "metadata": {},
   "source": [
    "## Opdracht"
   ]
  },
  {
   "cell_type": "markdown",
   "id": "0415ea02-1298-480e-8668-1d789d4ae0ff",
   "metadata": {},
   "source": [
    "- Onderzoek hoeveel kapotte lampen je tegenkomt als je **25 lampen** uit de totale dagproductie inspecteert\n",
    "- Voer de inspectie **10 maal** uit\n",
    "- Maak een kort overzicht van je bevindingen (in Excel, met MatplotLib of met print-statements)"
   ]
  },
  {
   "cell_type": "markdown",
   "id": "861d9c5f-0d6d-4f1c-ba69-531d3c632cfe",
   "metadata": {},
   "source": [
    "## Analyse"
   ]
  },
  {
   "cell_type": "markdown",
   "id": "5c86ba6f-4f31-4907-a1af-d3135bb4ae26",
   "metadata": {},
   "source": [
    "- Bedenk hoe je de productie en de productiefout simuleert\n",
    "- Bedenk hoe het inspectieproces verloopt\n",
    "\n",
    "**Hint**: zitten er functies in de [random module](https://www.w3schools.com/python/module_random.asp) die passen bij deze opdracht?"
   ]
  },
  {
   "cell_type": "markdown",
   "id": "61577874-6ad0-4406-b49c-bfe83337d3d5",
   "metadata": {},
   "source": [
    "## Schetsen"
   ]
  },
  {
   "cell_type": "markdown",
   "id": "22732353-821f-48a0-a1f5-2b09408a3a6f",
   "metadata": {},
   "source": [
    "Werk op basis van je analyse stapsgewijs een oplossing uit in de vorm van comments, bijvoorbeeld:"
   ]
  },
  {
   "cell_type": "code",
   "execution_count": 1,
   "id": "397f1676-3852-41ea-b367-77520ef2e2c2",
   "metadata": {},
   "outputs": [
    {
     "ename": "SyntaxError",
     "evalue": "invalid syntax (1243196187.py, line 1)",
     "output_type": "error",
     "traceback": [
      "\u001b[0;36m  Input \u001b[0;32mIn [1]\u001b[0;36m\u001b[0m\n\u001b[0;31m    Bekend is dat 2% van de productie defecten bevat\u001b[0m\n\u001b[0m                  ^\u001b[0m\n\u001b[0;31mSyntaxError\u001b[0m\u001b[0;31m:\u001b[0m invalid syntax\n"
     ]
    }
   ],
   "source": [
    "Bekend is dat 2% van de productie defecten bevat\n",
    "Goede lampen 98% = 1\n",
    "defecte lampen 2% = 0\n",
    "\n",
    "De dagproductie bestaat uit 75.000 lampen\n",
    "aantal werkend per dag is 73.500\n",
    "aantal defecten per dag is 1.500\n",
    "\n",
    "Onderzoek hoeveel kapotte lampen je tegenkomt als je 25 lampen uit de totale dagproductie inspecteert\n",
    "Voer de inspectie 10 maal uit\n",
    "\n",
    "10 tests van 25 lampen\n",
    "\n",
    "n = 25\n",
    "\n",
    "\n",
    "# 1. Genereer een lijst met functionele lampen (hoeveel?)\n",
    "# 2. Vul de lijst aan met defecte lampen (hoeveel?)\n",
    "\n",
    "# ..."
   ]
  },
  {
   "cell_type": "markdown",
   "id": "37923139-5fbd-4575-ab9b-72ad309b50be",
   "metadata": {},
   "source": [
    "- Als bovenstaande niet lukt dan zal het implementeren ook niet lukken...\n",
    "- Vraag om hulp, maar oefen eerst met het uitwerken van een oplossing"
   ]
  },
  {
   "cell_type": "markdown",
   "id": "03440dea-9b95-4b92-9d89-8385dbad8ebe",
   "metadata": {},
   "source": [
    "## Implementeren"
   ]
  },
  {
   "cell_type": "markdown",
   "id": "41d28061-7872-4a91-8296-f1ef4302e695",
   "metadata": {},
   "source": [
    "- Werk de bovenstaande schets stap voor stap uit\n",
    "- Begin pas met implementeren als de schets klopt"
   ]
  },
  {
   "cell_type": "code",
   "execution_count": 2,
   "id": "ac97b428-2e7f-4088-a0c1-a83f619802e0",
   "metadata": {},
   "outputs": [
    {
     "name": "stdout",
     "output_type": "stream",
     "text": [
      "het aantal defecten in deze test is:\n",
      "0\n",
      "het aantal defecten in deze test is:\n",
      "0\n",
      "het aantal defecten in deze test is:\n",
      "1\n",
      "het aantal defecten in deze test is:\n",
      "1\n",
      "het aantal defecten in deze test is:\n",
      "0\n",
      "het aantal defecten in deze test is:\n",
      "0\n",
      "het aantal defecten in deze test is:\n",
      "0\n",
      "het aantal defecten in deze test is:\n",
      "0\n",
      "het aantal defecten in deze test is:\n",
      "2\n",
      "het aantal defecten in deze test is:\n",
      "0\n",
      "het aantal uitgevoerde tests is\n",
      "10\n",
      "het totaal aantal defecte lampen is\n",
      "4\n"
     ]
    }
   ],
   "source": [
    "import numpy as np\n",
    "import random\n",
    "tests = 0\n",
    "t_zeros = 0\n",
    "\n",
    "def lampTest():\n",
    "\n",
    "    workingLamps = np.ones(73500)\n",
    "    defectiveLamps = np.zeros(1500)\n",
    "    totalLamps = np.concatenate([workingLamps, defectiveLamps])\n",
    "    return random.choices(totalLamps, k = 25)\n",
    "   \n",
    "   # totallamps = totalLamps- (random.choices(totalLamps, k = 25)\n",
    "    \n",
    "    \n",
    "for _ in range(10):\n",
    "    lampTest()\n",
    "    testArray = np.asarray(lampTest())\n",
    "    n_zeros = np.count_nonzero(testArray==0)\n",
    "    t_zeros += n_zeros\n",
    "    tests += 1\n",
    "   \n",
    "    print ('het aantal defecten in deze test is:')\n",
    "    print (n_zeros)\n",
    "\n",
    "print ('het aantal uitgevoerde tests is')\n",
    "print (tests)\n",
    "\n",
    "print ('het totaal aantal defecte lampen is')\n",
    "print (t_zeros)\n",
    "\n",
    "\n"
   ]
  },
  {
   "cell_type": "code",
   "execution_count": null,
   "id": "81966743-56ac-4cab-9c70-b1edc66ac71f",
   "metadata": {},
   "outputs": [],
   "source": []
  }
 ],
 "metadata": {
  "kernelspec": {
   "display_name": "Python 3 (ipykernel)",
   "language": "python",
   "name": "python3"
  },
  "language_info": {
   "codemirror_mode": {
    "name": "ipython",
    "version": 3
   },
   "file_extension": ".py",
   "mimetype": "text/x-python",
   "name": "python",
   "nbconvert_exporter": "python",
   "pygments_lexer": "ipython3",
   "version": "3.9.12"
  },
  "toc-showcode": false,
  "toc-showmarkdowntxt": false,
  "vscode": {
   "interpreter": {
    "hash": "353359681c27a03ba65d10cf6d0a48a5891c05af7321ddd15d38288c7b639365"
   }
  }
 },
 "nbformat": 4,
 "nbformat_minor": 5
}
