{
 "cells": [
  {
   "cell_type": "code",
   "execution_count": 1,
   "id": "8317bf0f-c86d-4195-9aa4-7f2f9463d668",
   "metadata": {},
   "outputs": [],
   "source": [
    "import numpy\n",
    "from sklearn import metrics\n",
    "import matplotlib.pyplot as plt"
   ]
  },
  {
   "cell_type": "code",
   "execution_count": 2,
   "id": "44f68f6f-0947-4327-aad5-300f4ca223aa",
   "metadata": {},
   "outputs": [],
   "source": [
    "actual = numpy.random.binomial(1, 0.9, size = 1000)\n",
    "predicted = numpy.random.binomial(1, 0.9, size = 1000)"
   ]
  },
  {
   "cell_type": "code",
   "execution_count": 3,
   "id": "c75a1fe8-297f-401c-bee5-fc043c5f167e",
   "metadata": {},
   "outputs": [],
   "source": [
    "confusion_matrix = metrics.confusion_matrix(actual, predicted)"
   ]
  },
  {
   "cell_type": "code",
   "execution_count": 6,
   "id": "c21c8f39-d368-412b-8f73-b0837903a490",
   "metadata": {},
   "outputs": [],
   "source": [
    "cm_display = metrics.ConfusionMatrixDisplay(confusion_matrix = confusion_matrix, display_labels = [False, True])"
   ]
  },
  {
   "cell_type": "code",
   "execution_count": 7,
   "id": "b464cef9-64c5-432b-ab58-244960e561af",
   "metadata": {},
   "outputs": [
    {
     "data": {
      "image/png": "[encoded data removed]",
      "text/plain": [
       "<Figure size 432x288 with 2 Axes>"
      ]
     },
     "metadata": {
      "needs_background": "light"
     },
     "output_type": "display_data"
    }
   ],
   "source": [
    "cm_display.plot()\n",
    "plt.show()"
   ]
  },
  {
   "cell_type": "code",
   "execution_count": null,
   "id": "fdcc5def-ae76-4580-8ec5-bef104f44606",
   "metadata": {},
   "outputs": [],
   "source": [
    "#hier kies je welke index je iets mee wilt zie tf_cnn_opdracht1\n",
    "i = 499\n",
    "\n",
    "#dit is het plaatje van index i\n",
    "img = trainSet[i]\n",
    "img2=img[np.newaxis, :, :]\n",
    "print (img2.shape)\n",
    "\n",
    "# print de label naam van index i\n",
    "print(labelNames[trainLabels[i]])\n",
    "\n",
    "#laat plaatje zien\n",
    "plt.imshow(img)\n",
    "\n",
    "print(img.shape)\n",
    "# print(img)\n",
    "\n",
    "pred = model.predict(img2)\n",
    "\n",
    "print (pred)\n",
    "\n",
    "# img objects in verzamellijst"
   ]
  },
  {
   "cell_type": "code",
   "execution_count": null,
   "id": "f0215f62-809f-4bd9-a9ef-331c729645e2",
   "metadata": {},
   "outputs": [],
   "source": []
  },
  {
   "cell_type": "code",
   "execution_count": null,
   "id": "c6dbb6b1-73e9-424e-9b84-28a74d5b00aa",
   "metadata": {},
   "outputs": [],
   "source": []
  },
  {
   "cell_type": "code",
   "execution_count": null,
   "id": "dbaced67-0773-49df-98ac-c4ac99dd4d99",
   "metadata": {},
   "outputs": [],
   "source": []
  },
  {
   "cell_type": "code",
   "execution_count": null,
   "id": "c0e048ba-dfaf-41fe-a44d-cdd8219da315",
   "metadata": {},
   "outputs": [],
   "source": []
  },
  {
   "cell_type": "code",
   "execution_count": null,
   "id": "e567ea16-4e5a-4981-873b-1cec2d3ec49f",
   "metadata": {},
   "outputs": [],
   "source": []
  }
 ],
 "metadata": {
  "kernelspec": {
   "display_name": "Python 3 (ipykernel)",
   "language": "python",
   "name": "python3"
  },
  "language_info": {
   "codemirror_mode": {
    "name": "ipython",
    "version": 3
   },
   "file_extension": ".py",
   "mimetype": "text/x-python",
   "name": "python",
   "nbconvert_exporter": "python",
   "pygments_lexer": "ipython3",
   "version": "3.9.12"
  }
 },
 "nbformat": 4,
 "nbformat_minor": 5
}
