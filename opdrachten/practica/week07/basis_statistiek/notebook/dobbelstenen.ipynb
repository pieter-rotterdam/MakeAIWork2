{
 "cells": [
  {
   "cell_type": "markdown",
   "id": "818a1af7-9708-4bae-92fe-fa36b678d2be",
   "metadata": {},
   "source": [
    "<a href=\"https://it-omscholing.nl/locaties/hogeschool-rotterdam/\">\n",
    "<div>\n",
    "<a><img src='pics/banner.PNG'/></a>\n",
    "</div>\n",
    "<div>\n",
    "<a href=''><img src='pics/miw.PNG'/></a>\n",
    "<em>Author: Jeroen Boogaard</em>\n",
    "</div>\n",
    "</a>"
   ]
  },
  {
   "cell_type": "markdown",
   "id": "a9ff9227-1da2-489e-a4b4-d661d44ce68f",
   "metadata": {},
   "source": [
    "<h1>Practicum Basis Statistiek</h1>"
   ]
  },
  {
   "cell_type": "markdown",
   "id": "0437b096-4322-4054-a14f-b26c9a12999d",
   "metadata": {},
   "source": [
    "<h2>Dobbelstenen</h2>"
   ]
  },
  {
   "cell_type": "markdown",
   "id": "67fc0ddf-6732-496e-a406-77e1776d7359",
   "metadata": {},
   "source": [
    "<div>\n",
    "<img src='pics/dobbelsteen.jpg'/>    \n",
    "</div>    "
   ]
  },
  {
   "cell_type": "markdown",
   "id": "7d395107",
   "metadata": {},
   "source": [
    "<h2>Imports<h2>"
   ]
  },
  {
   "cell_type": "code",
   "execution_count": 28,
   "id": "84d02a33",
   "metadata": {},
   "outputs": [],
   "source": [
    "from matplotlib_venn import venn2\n",
    "import matplotlib.pyplot as plot\n",
    "import pylab as plt\n",
    "import random\n",
    "import numpy as np\n",
    "from dobbelsteen import Dobbelsteen"
   ]
  },
  {
   "cell_type": "markdown",
   "id": "51aae3d0-f644-4552-870c-029b41f24559",
   "metadata": {},
   "source": [
    "<h2>Dobbelsteen</h2>"
   ]
  },
  {
   "cell_type": "code",
   "execution_count": 29,
   "id": "18c0e9c1-d82a-46ee-b6fd-8af1b9f6c81f",
   "metadata": {},
   "outputs": [
    {
     "name": "stdout",
     "output_type": "stream",
     "text": [
      "┌─────────┐\n",
      "│         │\n",
      "│    ●    │\n",
      "│         │\n",
      "└─────────┘\n",
      "\n"
     ]
    }
   ],
   "source": [
    "d = Dobbelsteen()\n",
    "print(d.show())"
   ]
  },
  {
   "cell_type": "markdown",
   "id": "170099a3-4baf-4d2b-9ee2-ba934e368432",
   "metadata": {},
   "source": [
    "<h3>Uitkomstruimte</h3>"
   ]
  },
  {
   "cell_type": "code",
   "execution_count": 12,
   "id": "efdbb9fe-07af-460f-81bb-868d15c2c64e",
   "metadata": {},
   "outputs": [
    {
     "name": "stdout",
     "output_type": "stream",
     "text": [
      "{1, 2, 3, 4, 5, 6}\n"
     ]
    }
   ],
   "source": [
    "print(d.values)  "
   ]
  },
  {
   "cell_type": "markdown",
   "id": "8180133d-56ca-4366-8c0f-bfc87b73cbc5",
   "metadata": {},
   "source": [
    "<h3>Kansmassa-functie</h3>"
   ]
  },
  {
   "cell_type": "code",
   "execution_count": 13,
   "id": "c652271d-7f13-493e-a14e-d70a21e2de39",
   "metadata": {},
   "outputs": [
    {
     "name": "stdout",
     "output_type": "stream",
     "text": [
      "p(1) = 1/6\n",
      "p(2) = 1/6\n",
      "p(3) = 1/6\n",
      "p(4) = 1/6\n",
      "p(5) = 1/6\n",
      "p(6) = 1/6\n"
     ]
    }
   ],
   "source": [
    "p = \"1/6\"\n",
    "prob = {element:p for element in d.getList()}\n",
    "\n",
    "for i in d.getList():\n",
    "    print( f\"p({i}) = {prob.get(i)}\" )"
   ]
  },
  {
   "cell_type": "markdown",
   "id": "80c83e13-30fe-40e2-b7a6-d58e9dfebdd1",
   "metadata": {},
   "source": [
    "<h2>Twee dobbelstenen</h2>"
   ]
  },
  {
   "cell_type": "code",
   "execution_count": 31,
   "id": "03ff353d-e88e-416e-bd64-5ab2b47c8e84",
   "metadata": {},
   "outputs": [
    {
     "name": "stdout",
     "output_type": "stream",
     "text": [
      "┌─────────┐\n",
      "│  ●   ●  │\n",
      "│         │\n",
      "│  ●   ●  │\n",
      "└─────────┘\n",
      "┌─────────┐\n",
      "│  ●   ●  │\n",
      "│    ●    │\n",
      "│  ●   ●  │\n",
      "└─────────┘\n"
     ]
    }
   ],
   "source": [
    "d0 = Dobbelsteen()\n",
    "d1 = Dobbelsteen()\n",
    "print( f\"{d0.show()}\\n{d1.show()}\" )"
   ]
  },
  {
   "cell_type": "markdown",
   "id": "efa076ad-8f22-4db5-a835-c42599369263",
   "metadata": {},
   "source": [
    "<h3>Uitkomstruimte</h3>"
   ]
  },
  {
   "cell_type": "code",
   "execution_count": 39,
   "id": "0ee9d6ad-5b3a-418b-bd41-84ff8d7a50a0",
   "metadata": {},
   "outputs": [
    {
     "data": {
      "image/png": "[encoded data removed]",
      "text/plain": [
       "<Figure size 640x480 with 1 Axes>"
      ]
     },
     "metadata": {},
     "output_type": "display_data"
    }
   ],
   "source": [
    "v = venn2(subsets=(1,1,0,1,0))\n",
    "uitkomsten = \"1 2 3 4 5 6\"\n",
    "v.get_label_by_id('100').set_text(uitkomsten)\n",
    "v.get_label_by_id('010').set_text(uitkomsten)\n",
    "plt.title(\"Twee dobbelstenen\")\n",
    "plt.show()"
   ]
  },
  {
   "cell_type": "markdown",
   "id": "cd3605f8-a3ae-4c51-89f1-9121efb85f40",
   "metadata": {},
   "source": [
    "<h3>Exercise 1</h3>"
   ]
  },
  {
   "cell_type": "markdown",
   "id": "4ad197b3-806e-4fdf-8403-cc63a2fc49b6",
   "metadata": {},
   "source": [
    "<h4>Gegeven</h4>\n",
    "<p>Dobbelstenen d0 en d1</p>"
   ]
  },
  {
   "cell_type": "markdown",
   "id": "99703aeb-ae1d-4662-9ff0-c77bb458dfcf",
   "metadata": {},
   "source": [
    "<h4>Gevraagd</h4>\n",
    "<p>\n",
    "    Maak een <u>set</u> van de <u>gecombineerde uitkomstruimte</u> <i>dice</i> die ontstaat door dobbelstenen d0 en d1 tegelijkertijd te werpen\n",
    "</p>"
   ]
  },
  {
   "cell_type": "markdown",
   "id": "cc81594b-54a3-4c6f-82df-03fed6ad4b62",
   "metadata": {},
   "source": [
    "<h4>Oplossing</h4>"
   ]
  },
  {
   "cell_type": "code",
   "execution_count": 24,
   "id": "7d36cbcd-ff5a-4b23-a6d6-d37d736ab4df",
   "metadata": {
    "tags": []
   },
   "outputs": [
    {
     "name": "stdout",
     "output_type": "stream",
     "text": [
      "{1, 2, 3, 4, 5, 6}\n",
      "{1, 2, 3, 4, 5, 6}\n"
     ]
    }
   ],
   "source": [
    "test\n",
    "\n",
    "p = \"1/36\")\n",
    "\n",
    "\n",
    "p = \"1/6\"\n",
    "prob = {element:p for element in d.getList()}\n"
   ]
  },
  {
   "cell_type": "markdown",
   "id": "2e6623ca-8e7c-4168-acc8-91a91ae23297",
   "metadata": {},
   "source": [
    "<h3>Exercise 2</h3>"
   ]
  },
  {
   "cell_type": "markdown",
   "id": "0d6f96b6-34d0-400a-8cf3-b62fbf16cb64",
   "metadata": {
    "tags": []
   },
   "source": [
    "<h4>Gegeven</h4>\n",
    "<p>Dobbelstenen <i>d0</i> en <i>d1</i> en hun gecombineerde uitkomstruimte <i>dice</i></p>"
   ]
  },
  {
   "cell_type": "code",
   "execution_count": 4,
   "id": "1d46f99a-609c-4ef1-8d6b-a3fdde0b5b0a",
   "metadata": {},
   "outputs": [
    {
     "name": "stdout",
     "output_type": "stream",
     "text": [
      "{(3, 4), (4, 3), (3, 1), (5, 4), (4, 6), (5, 1), (2, 2), (1, 6), (2, 5), (1, 3), (6, 2), (6, 5), (4, 2), (4, 5), (3, 3), (5, 6), (3, 6), (5, 3), (2, 4), (1, 2), (2, 1), (1, 5), (6, 1), (6, 4), (3, 2), (4, 1), (3, 5), (5, 2), (4, 4), (5, 5), (1, 1), (1, 4), (2, 3), (2, 6), (6, 6), (6, 3)}\n"
     ]
    }
   ],
   "source": [
    "from itertools import product\n",
    "\n",
    "myList = list(product(range(1,7), repeat=2)) # the second argument can be however\n",
    "                                            # many die you want to roll.\n",
    "mySet = set(myList)\n",
    "\n",
    "print(mySet)"
   ]
  },
  {
   "cell_type": "markdown",
   "id": "9f245fb3-2a56-44c5-b883-76cef863aba0",
   "metadata": {},
   "source": [
    "<h3>Gevraagd</h3>\n",
    "<p>\n",
    "    Geef de <u>kansmassa-functie</u> van de som van het aantal ogen van <i>d0</i> en <i>d1</i><br>\n",
    "    <strong>TIP</strong>: Maak eerst een dictionary met daarin per alle uitkomsten\n",
    "</p>"
   ]
  },
  {
   "cell_type": "markdown",
   "id": "7810f233-a09a-4636-9b17-15fa90aad0d2",
   "metadata": {},
   "source": [
    "<h4>Oplossing</h4>"
   ]
  },
  {
   "cell_type": "code",
   "execution_count": 56,
   "id": "15b89a30-6d07-4454-93a8-62e6b5dc3052",
   "metadata": {},
   "outputs": [
    {
     "name": "stdout",
     "output_type": "stream",
     "text": [
      "[[1. 2. 3. 4. 5. 6.]\n",
      " [1. 2. 3. 4. 5. 6.]]\n",
      "[[1. 1. 1. 1. 1. 1.]\n",
      " [2. 2. 2. 2. 2. 2.]]\n",
      "[[1. 2. 3. 4. 5. 6.]\n",
      " [1. 2. 3. 4. 5. 6.]]\n",
      "[[1. 1. 1. 1. 1. 1.]\n",
      " [2. 2. 2. 2. 2. 2.]]\n"
     ]
    }
   ],
   "source": [
    "x = np.linspace(1,6,6)\n",
    "y = np.linspace(1,2,2)\n",
    "\n",
    "xx, yy = np.meshgrid(x,y)\n",
    "\n",
    "print (xx)\n",
    "\n",
    "print (yy)\n",
    "\n",
    "for i in xx, yy:\n",
    "    print (i)"
   ]
  },
  {
   "cell_type": "code",
   "execution_count": 38,
   "id": "90184c41-6b78-418d-ac1f-6a5014e8c9af",
   "metadata": {},
   "outputs": [
    {
     "name": "stdout",
     "output_type": "stream",
     "text": [
      "{(3, 4), (4, 3), (3, 1), (5, 4), (4, 6), (5, 1), (2, 2), (1, 6), (2, 5), (1, 3), (6, 2), (6, 5), (4, 2), (4, 5), (3, 3), (5, 6), (3, 6), (5, 3), (2, 4), (1, 2), (2, 1), (1, 5), (6, 1), (6, 4), (3, 2), (4, 1), (3, 5), (5, 2), (4, 4), (5, 5), (1, 1), (1, 4), (2, 3), (2, 6), (6, 6), (6, 3)}\n"
     ]
    }
   ],
   "source": [
    "\n",
    "dice = set()\n",
    "\n",
    "for i in d0.getList():\n",
    "    for j in d1.getList():\n",
    "        dice.add((i, j))\n",
    "        \n",
    "print (dice)\n"
   ]
  },
  {
   "cell_type": "code",
   "execution_count": 39,
   "id": "85b8c5be-f604-4038-bdc9-e1e4b20c0551",
   "metadata": {},
   "outputs": [
    {
     "name": "stdout",
     "output_type": "stream",
     "text": [
      "initial string {1, 2, 3, 4, 5}\n",
      "<class 'set'>\n",
      "final list {1: 'Geekfg', 2: 'Geekfg', 3: 'Geekfg', 4: 'Geekfg', 5: 'Geekfg'}\n",
      "<class 'dict'>\n"
     ]
    }
   ],
   "source": []
  },
  {
   "cell_type": "code",
   "execution_count": 25,
   "id": "65985ceb-1e6d-4936-922c-40d20861ca4c",
   "metadata": {},
   "outputs": [
    {
     "name": "stdout",
     "output_type": "stream",
     "text": [
      "{'2': [(1, 1)], '3': [(1, 2), (2, 1)], '4': [(1, 3), (3, 1), (2, 2)], '5': [(1, 4), (2, 3), (3, 2), (4, 1)], '6': [(1, 5), (2, 4), (3, 3), (4, 2), (5, 1)], '7': [(1, 6), (2, 5), (3, 4), (4, 3), (5, 2), (6, 1)], '8': [(2, 6), (3, 5), (4, 4), (5, 3), (6, 2)], '9': [(3, 6), (4, 5), (5, 4), (6, 3)], '10': [(4, 6), (5, 5), (6, 4)], '11': [(5, 6), (6, 5)], '12': [(6, 6)]}\n"
     ]
    },
    {
     "ename": "TypeError",
     "evalue": "unhashable type: 'list'",
     "output_type": "error",
     "traceback": [
      "\u001b[0;31m---------------------------------------------------------------------------\u001b[0m",
      "\u001b[0;31mTypeError\u001b[0m                                 Traceback (most recent call last)",
      "Cell \u001b[0;32mIn [25], line 17\u001b[0m\n\u001b[1;32m     14\u001b[0m \u001b[38;5;28mprint\u001b[39m (d)\n\u001b[1;32m     16\u001b[0m p \u001b[38;5;241m=\u001b[39m \u001b[38;5;124m\"\u001b[39m\u001b[38;5;124m1/36\u001b[39m\u001b[38;5;124m\"\u001b[39m\n\u001b[0;32m---> 17\u001b[0m prob \u001b[38;5;241m=\u001b[39m {element:p \u001b[38;5;28;01mfor\u001b[39;00m element \u001b[38;5;129;01min\u001b[39;00m d\u001b[38;5;241m.\u001b[39mvalues()}\n\u001b[1;32m     19\u001b[0m \u001b[38;5;28;01mfor\u001b[39;00m i \u001b[38;5;129;01min\u001b[39;00m d\u001b[38;5;241m.\u001b[39mvalues():\n\u001b[1;32m     20\u001b[0m     \u001b[38;5;28mprint\u001b[39m( \u001b[38;5;124mf\u001b[39m\u001b[38;5;124m\"\u001b[39m\u001b[38;5;124mp(\u001b[39m\u001b[38;5;132;01m{\u001b[39;00mi\u001b[38;5;132;01m}\u001b[39;00m\u001b[38;5;124m) = \u001b[39m\u001b[38;5;132;01m{\u001b[39;00mprob\u001b[38;5;241m.\u001b[39mget(i)\u001b[38;5;132;01m}\u001b[39;00m\u001b[38;5;124m\"\u001b[39m )\n",
      "Cell \u001b[0;32mIn [25], line 17\u001b[0m, in \u001b[0;36m<dictcomp>\u001b[0;34m(.0)\u001b[0m\n\u001b[1;32m     14\u001b[0m \u001b[38;5;28mprint\u001b[39m (d)\n\u001b[1;32m     16\u001b[0m p \u001b[38;5;241m=\u001b[39m \u001b[38;5;124m\"\u001b[39m\u001b[38;5;124m1/36\u001b[39m\u001b[38;5;124m\"\u001b[39m\n\u001b[0;32m---> 17\u001b[0m prob \u001b[38;5;241m=\u001b[39m {element:p \u001b[38;5;28;01mfor\u001b[39;00m element \u001b[38;5;129;01min\u001b[39;00m d\u001b[38;5;241m.\u001b[39mvalues()}\n\u001b[1;32m     19\u001b[0m \u001b[38;5;28;01mfor\u001b[39;00m i \u001b[38;5;129;01min\u001b[39;00m d\u001b[38;5;241m.\u001b[39mvalues():\n\u001b[1;32m     20\u001b[0m     \u001b[38;5;28mprint\u001b[39m( \u001b[38;5;124mf\u001b[39m\u001b[38;5;124m\"\u001b[39m\u001b[38;5;124mp(\u001b[39m\u001b[38;5;132;01m{\u001b[39;00mi\u001b[38;5;132;01m}\u001b[39;00m\u001b[38;5;124m) = \u001b[39m\u001b[38;5;132;01m{\u001b[39;00mprob\u001b[38;5;241m.\u001b[39mget(i)\u001b[38;5;132;01m}\u001b[39;00m\u001b[38;5;124m\"\u001b[39m )\n",
      "\u001b[0;31mTypeError\u001b[0m: unhashable type: 'list'"
     ]
    }
   ],
   "source": [
    "d = {'2': [(1,1)],\n",
    "    '3': [(1,2),(2,1)],\n",
    "    '4': [(1,3),(3,1),(2,2)],\n",
    "    '5': [(1,4),(2,3),(3,2),(4,1)],\n",
    "    '6': [(1,5), (2,4), (3,3), (4,2), (5,1)],\n",
    "    '7': [(1,6), (2,5), (3,4), (4,3), (5,2), (6 ,1)],\n",
    "    '8': [(2,6), (3,5), (4,4), (5,3), (6,2)],\n",
    "    '9': [(3,6),(4,5),(5,4),(6,3)],\n",
    "    '10': [(4,6),(5,5),(6,4)],\n",
    "    '11': [(5,6),(6,5)],\n",
    "    '12': [(6,6)]  \n",
    "    }\n",
    "\n",
    "print (d)\n",
    "\n",
    "p = \"1/36\"\n",
    "prob = {element:p for element in d.values()}\n",
    "\n",
    "for i in d.values():\n",
    "    print( f\"p({i}) = {prob.get(i)}\" )"
   ]
  },
  {
   "cell_type": "code",
   "execution_count": 10,
   "id": "b7c6945d-683b-4049-ab45-973d13fea8ba",
   "metadata": {},
   "outputs": [
    {
     "ename": "SyntaxError",
     "evalue": "invalid syntax (3318309271.py, line 5)",
     "output_type": "error",
     "traceback": [
      "\u001b[0;36m  Cell \u001b[0;32mIn [10], line 5\u001b[0;36m\u001b[0m\n\u001b[0;31m    ini_set = {1, 2, 3, 4, 5}\u001b[0m\n\u001b[0m            ^\u001b[0m\n\u001b[0;31mSyntaxError\u001b[0m\u001b[0;31m:\u001b[0m invalid syntax\n"
     ]
    }
   ],
   "source": [
    "myDict = {element: \n",
    "\n",
    "\n",
    "\n",
    "ini_set = {1, 2, 3, 4, 5}\n",
    " \n",
    "# printing initialized set\n",
    "print (\"initial string\", ini_set)\n",
    "print (type(ini_set))\n",
    " \n",
    "str = 'fg'\n",
    "# Converting set to dict\n",
    "res = {element:'Geek'+str for element in ini_set}\n",
    " \n",
    "# printing final result and its type\n",
    "print (\"final list\", res)\n",
    "print (type(res))\n",
    "\n"
   ]
  },
  {
   "cell_type": "markdown",
   "id": "c878858c-a5c8-4c52-b093-13b46ae78b7d",
   "metadata": {},
   "source": [
    "<h3>Metrics</h3>"
   ]
  },
  {
   "cell_type": "markdown",
   "id": "dce2fe5f-9c9d-49e8-a03b-28d0eedc368f",
   "metadata": {},
   "source": [
    "**Gebruik een numpy array voor het bepalen van centrum-maten**"
   ]
  },
  {
   "cell_type": "markdown",
   "id": "e82be685-7f00-4b64-8b4a-e47c9b584e0b",
   "metadata": {},
   "source": [
    "<h3>Exercise 3</h3>"
   ]
  },
  {
   "cell_type": "markdown",
   "id": "0a1f3850-fe36-4b18-b5f4-d3887c8a9341",
   "metadata": {},
   "source": [
    "<h4>Gegeven</h4>\n",
    "<p>De class Dobbelsteen in de module dobbelsteen.py</p>"
   ]
  },
  {
   "cell_type": "code",
   "execution_count": 18,
   "id": "9573541d-f453-41d7-984b-a877cd258e39",
   "metadata": {},
   "outputs": [],
   "source": [
    "d2 = Dobbelsteen()"
   ]
  },
  {
   "cell_type": "markdown",
   "id": "2c2b9484-ff4a-4634-9e95-09bc9a808c51",
   "metadata": {},
   "source": [
    "<h4>Gevraagd</h4>\n",
    "<p>\n",
    "    Voeg het volgende toe aan class Dobbelsteen:\n",
    "    <ul>\n",
    "        <li>list variabele <u>history</u> waaraan de uitkomst van iedere worp wordt toegevoegd</li>\n",
    "        <li>method <u>getHistory(self)</u> die de waarde van variabele <u>history</u> geeft als <u>numpy-array</u></li>\n",
    "    </ul>\n",
    "    Schrijf vervolgens in de cell hieronder een loop die 100 keer <u>d2.roll()</u> uitvoert en print (buiten de loop):    \n",
    "    <ul>\n",
    "        <li>d2.getHistory()</li>\n",
    "        <li>d2.getModus()</li>\n",
    "    </ul>\n",
    " </p>  "
   ]
  },
  {
   "cell_type": "code",
   "execution_count": 19,
   "id": "2a008910-462a-4df2-bc93-baf00bc09690",
   "metadata": {},
   "outputs": [],
   "source": [
    "# Oplossing"
   ]
  },
  {
   "cell_type": "markdown",
   "id": "2b8c5913-da0a-4195-8aa6-d11bd7d881a1",
   "metadata": {},
   "source": [
    "<h2>References</h2>\n",
    "<a href=\"https://realpython.com/python-dice-roll)\">Build a Dice-Rolling Application With Python</a>"
   ]
  }
 ],
 "metadata": {
  "kernelspec": {
   "display_name": "Python 3 (ipykernel)",
   "language": "python",
   "name": "python3"
  },
  "language_info": {
   "codemirror_mode": {
    "name": "ipython",
    "version": 3
   },
   "file_extension": ".py",
   "mimetype": "text/x-python",
   "name": "python",
   "nbconvert_exporter": "python",
   "pygments_lexer": "ipython3",
   "version": "3.9.12"
  },
  "vscode": {
   "interpreter": {
    "hash": "aee8b7b246df8f9039afb4144a1f6fd8d2ca17a180786b69acc140d282b71a49"
   }
  }
 },
 "nbformat": 4,
 "nbformat_minor": 5
}
