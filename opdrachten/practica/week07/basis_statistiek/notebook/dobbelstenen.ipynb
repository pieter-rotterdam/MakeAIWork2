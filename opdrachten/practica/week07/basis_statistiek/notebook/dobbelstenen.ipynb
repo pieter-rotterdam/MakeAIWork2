{
 "cells": [
  {
   "cell_type": "markdown",
   "id": "818a1af7-9708-4bae-92fe-fa36b678d2be",
   "metadata": {},
   "source": [
    "<a href=\"https://it-omscholing.nl/locaties/hogeschool-rotterdam/\">\n",
    "<div>\n",
    "<a><img src='pics/banner.PNG'/></a>\n",
    "</div>\n",
    "<div>\n",
    "<a href=''><img src='pics/miw.PNG'/></a>\n",
    "<em>Author: Jeroen Boogaard</em>\n",
    "</div>\n",
    "</a>"
   ]
  },
  {
   "cell_type": "markdown",
   "id": "a9ff9227-1da2-489e-a4b4-d661d44ce68f",
   "metadata": {},
   "source": [
    "<h1>Practicum Basis Statistiek</h1>"
   ]
  },
  {
   "cell_type": "markdown",
   "id": "0437b096-4322-4054-a14f-b26c9a12999d",
   "metadata": {},
   "source": [
    "<h2>Dobbelstenen</h2>"
   ]
  },
  {
   "cell_type": "markdown",
   "id": "67fc0ddf-6732-496e-a406-77e1776d7359",
   "metadata": {},
   "source": [
    "<div>\n",
    "<img src='pics/dobbelsteen.jpg'/>    \n",
    "</div>    "
   ]
  },
  {
   "cell_type": "markdown",
   "id": "7d395107",
   "metadata": {},
   "source": [
    "<h2>Imports<h2>"
   ]
  },
  {
   "cell_type": "code",
   "execution_count": 11,
   "id": "ffd5e059-b09b-4b90-9857-1abd97135304",
   "metadata": {
    "tags": []
   },
   "outputs": [],
   "source": [
    "import matplotlib.pyplot as plot\n",
    "import pylab as plt\n",
    "import random\n",
    "import numpy as np\n",
    "from dobbelsteen import Dobbelsteen\n",
    "from itertools import product"
   ]
  },
  {
   "cell_type": "code",
   "execution_count": 12,
   "id": "c10cc4c6-8619-4aae-91dc-506337b24a1d",
   "metadata": {},
   "outputs": [],
   "source": [
    "from matplotlib_venn import venn2"
   ]
  },
  {
   "cell_type": "markdown",
   "id": "51aae3d0-f644-4552-870c-029b41f24559",
   "metadata": {},
   "source": [
    "<h2>Dobbelsteen</h2>"
   ]
  },
  {
   "cell_type": "code",
   "execution_count": 13,
   "id": "18c0e9c1-d82a-46ee-b6fd-8af1b9f6c81f",
   "metadata": {
    "tags": []
   },
   "outputs": [
    {
     "name": "stdout",
     "output_type": "stream",
     "text": [
      "┌─────────┐\n",
      "│         │\n",
      "│    ●    │\n",
      "│         │\n",
      "└─────────┘\n",
      "\n"
     ]
    }
   ],
   "source": [
    "d = Dobbelsteen()\n",
    "print(d.show())"
   ]
  },
  {
   "cell_type": "markdown",
   "id": "170099a3-4baf-4d2b-9ee2-ba934e368432",
   "metadata": {},
   "source": [
    "<h3>Uitkomstruimte</h3>"
   ]
  },
  {
   "cell_type": "code",
   "execution_count": 14,
   "id": "efdbb9fe-07af-460f-81bb-868d15c2c64e",
   "metadata": {},
   "outputs": [
    {
     "name": "stdout",
     "output_type": "stream",
     "text": [
      "{1, 2, 3, 4, 5, 6}\n"
     ]
    }
   ],
   "source": [
    "print(d.values)  "
   ]
  },
  {
   "cell_type": "markdown",
   "id": "8180133d-56ca-4366-8c0f-bfc87b73cbc5",
   "metadata": {},
   "source": [
    "<h3>Kansmassa-functie</h3>"
   ]
  },
  {
   "cell_type": "code",
   "execution_count": 15,
   "id": "c652271d-7f13-493e-a14e-d70a21e2de39",
   "metadata": {},
   "outputs": [
    {
     "name": "stdout",
     "output_type": "stream",
     "text": [
      "p(1) = 1/6\n",
      "p(2) = 1/6\n",
      "p(3) = 1/6\n",
      "p(4) = 1/6\n",
      "p(5) = 1/6\n",
      "p(6) = 1/6\n"
     ]
    }
   ],
   "source": [
    "p = \"1/6\"\n",
    "prob = {element:p for element in d.getList()}\n",
    "\n",
    "for i in d.getList():\n",
    "    print( f\"p({i}) = {prob.get(i)}\" )"
   ]
  },
  {
   "cell_type": "markdown",
   "id": "80c83e13-30fe-40e2-b7a6-d58e9dfebdd1",
   "metadata": {},
   "source": [
    "<h2>Twee dobbelstenen</h2>"
   ]
  },
  {
   "cell_type": "code",
   "execution_count": 16,
   "id": "03ff353d-e88e-416e-bd64-5ab2b47c8e84",
   "metadata": {},
   "outputs": [
    {
     "name": "stdout",
     "output_type": "stream",
     "text": [
      "┌─────────┐\n",
      "│  ●   ●  │\n",
      "│  ●   ●  │\n",
      "│  ●   ●  │\n",
      "└─────────┘\n",
      "┌─────────┐\n",
      "│  ●   ●  │\n",
      "│         │\n",
      "│  ●   ●  │\n",
      "└─────────┘\n"
     ]
    }
   ],
   "source": [
    "d0 = Dobbelsteen()\n",
    "d1 = Dobbelsteen()\n",
    "print( f\"{d0.show()}\\n{d1.show()}\" )"
   ]
  },
  {
   "cell_type": "markdown",
   "id": "efa076ad-8f22-4db5-a835-c42599369263",
   "metadata": {},
   "source": [
    "<h3>Uitkomstruimte</h3>"
   ]
  },
  {
   "cell_type": "code",
   "execution_count": 17,
   "id": "0ee9d6ad-5b3a-418b-bd41-84ff8d7a50a0",
   "metadata": {},
   "outputs": [
    {
     "data": {
      "image/png": "[encoded data removed]",
      "text/plain": [
       "<Figure size 432x288 with 1 Axes>"
      ]
     },
     "metadata": {},
     "output_type": "display_data"
    }
   ],
   "source": [
    "v = venn2(subsets=(1,1,0,1,0))\n",
    "uitkomsten = \"1 2 3 4 5 6\"\n",
    "v.get_label_by_id('100').set_text(uitkomsten)\n",
    "v.get_label_by_id('010').set_text(uitkomsten)\n",
    "plt.title(\"Twee dobbelstenen\")\n",
    "plt.show()"
   ]
  },
  {
   "cell_type": "markdown",
   "id": "cd3605f8-a3ae-4c51-89f1-9121efb85f40",
   "metadata": {},
   "source": [
    "<h3>Exercise 1</h3>"
   ]
  },
  {
   "cell_type": "markdown",
   "id": "4ad197b3-806e-4fdf-8403-cc63a2fc49b6",
   "metadata": {},
   "source": [
    "<h4>Gegeven</h4>\n",
    "<p>Dobbelstenen d0 en d1</p>"
   ]
  },
  {
   "cell_type": "markdown",
   "id": "99703aeb-ae1d-4662-9ff0-c77bb458dfcf",
   "metadata": {},
   "source": [
    "<h4>Gevraagd</h4>\n",
    "<p>\n",
    "    Maak een <u>set</u> van de <u>gecombineerde uitkomstruimte</u> <i>dice</i> die ontstaat door dobbelstenen d0 en d1 tegelijkertijd te werpen\n",
    "</p>"
   ]
  },
  {
   "cell_type": "markdown",
   "id": "cc81594b-54a3-4c6f-82df-03fed6ad4b62",
   "metadata": {},
   "source": [
    "<h4>Oplossing</h4>"
   ]
  },
  {
   "cell_type": "code",
   "execution_count": 18,
   "id": "7d36cbcd-ff5a-4b23-a6d6-d37d736ab4df",
   "metadata": {
    "tags": []
   },
   "outputs": [
    {
     "name": "stdout",
     "output_type": "stream",
     "text": [
      "{(3, 4), (4, 3), (3, 1), (5, 4), (4, 6), (5, 1), (2, 2), (1, 6), (2, 5), (1, 3), (6, 2), (6, 5), (4, 2), (4, 5), (3, 3), (5, 6), (3, 6), (5, 3), (2, 4), (1, 2), (2, 1), (1, 5), (6, 1), (6, 4), (3, 2), (4, 1), (3, 5), (5, 2), (4, 4), (5, 5), (1, 1), (1, 4), (2, 3), (2, 6), (6, 6), (6, 3)}\n",
      "{2, 3, 4, 5, 6, 7, 8, 9, 10, 11, 12}\n",
      "['2', '3', '4', '5', '6', '7', '3', '4', '5', '6', '7', '8', '4', '5', '6', '7', '8', '9', '5', '6', '7', '8', '9', '10', '6', '7', '8', '9', '10', '11', '7', '8', '9', '10', '11', '12']\n"
     ]
    }
   ],
   "source": [
    "dice = set()\n",
    "\n",
    "for i in d0.getList():\n",
    "    for j in d1.getList():\n",
    "        dice.add((i, j))\n",
    "        \n",
    "print (dice)\n",
    "\n",
    "twoDice = list()\n",
    "\n",
    "for i in d0.getList():\n",
    "    for j in d1.getList():\n",
    "        twoDice.append((i)+(j))\n",
    "        \n",
    "strTwoDice = [str(i) for i in twoDice]        \n",
    "twoDiceSet=(set(twoDice))\n",
    "        \n",
    "print (twoDiceSet)\n",
    "# print (twoDice)\n",
    "print (strTwoDice)\n",
    "\n",
    "\n",
    "# alternatief:\n",
    "\n",
    "# aantal dobbelstenen A = 2 (d1 en d0)\n",
    "# A = 2 \n",
    "# temp = [list(range(1, 7)) for _ in range(A)]\n",
    "\n",
    "# # product van itertools gebruikt voor uitkomstruimte\n",
    "# dice = set(product(*temp))\n",
    "\n",
    "# # printing result\n",
    "# print(\"De set van gecombineerde uitkomstruimte dice is : \" + str(dice))"
   ]
  },
  {
   "cell_type": "markdown",
   "id": "2e6623ca-8e7c-4168-acc8-91a91ae23297",
   "metadata": {},
   "source": [
    "<h3>Exercise 2</h3>"
   ]
  },
  {
   "cell_type": "markdown",
   "id": "0d6f96b6-34d0-400a-8cf3-b62fbf16cb64",
   "metadata": {
    "tags": []
   },
   "source": [
    "<h4>Gegeven</h4>\n",
    "<p>Dobbelstenen <i>d0</i> en <i>d1</i> en hun gecombineerde uitkomstruimte <i>dice</i></p>"
   ]
  },
  {
   "cell_type": "markdown",
   "id": "9f245fb3-2a56-44c5-b883-76cef863aba0",
   "metadata": {
    "tags": []
   },
   "source": [
    "<h3>Gevraagd</h3>\n",
    "<p>\n",
    "    Geef de <u>kansmassa-functie</u> van de som van het aantal ogen van <i>d0</i> en <i>d1</i><br>\n",
    "    <strong>TIP</strong>: Maak eerst een dictionary met daarin per alle uitkomsten\n",
    "</p>"
   ]
  },
  {
   "cell_type": "markdown",
   "id": "371e852f-a299-423e-88c0-fa9a41877b07",
   "metadata": {
    "tags": []
   },
   "source": [
    "<h4>Oplossing</h4>"
   ]
  },
  {
   "cell_type": "code",
   "execution_count": 30,
   "id": "7d42b027-da91-4677-b8ce-73402db1bb1d",
   "metadata": {},
   "outputs": [
    {
     "name": "stdout",
     "output_type": "stream",
     "text": [
      "3\n",
      "3\n",
      "3\n",
      "3\n",
      "3\n",
      "3\n",
      "3\n",
      "3\n",
      "3\n",
      "3\n",
      "3\n"
     ]
    }
   ],
   "source": [
    "throwTwo = { value:str(value) for value in range(2,13)}\n",
    "# print(f\"Dictionary {throwTwo}\")\n",
    "# print (f\"Possible outcomes: {strTwoDice}\")\n",
    "\n",
    "for key, value in throwTwo.items():\n",
    "    print ([value for value in throwTwo.values()][1])\n"
   ]
  },
  {
   "cell_type": "raw",
   "id": "afee4c6d-cbbf-40a5-96b0-f8c75e0e4b39",
   "metadata": {},
   "source": []
  },
  {
   "cell_type": "code",
   "execution_count": 20,
   "id": "b4471abe-ea41-47e3-888b-6ab4396a02d8",
   "metadata": {},
   "outputs": [
    {
     "ename": "SyntaxError",
     "evalue": "invalid syntax (4067934505.py, line 4)",
     "output_type": "error",
     "traceback": [
      "\u001b[0;36m  Input \u001b[0;32mIn [20]\u001b[0;36m\u001b[0m\n\u001b[0;31m    if dictTwoDice(keys) = strTwoDice(i):\u001b[0m\n\u001b[0m                         ^\u001b[0m\n\u001b[0;31mSyntaxError\u001b[0m\u001b[0;31m:\u001b[0m invalid syntax\n"
     ]
    }
   ],
   "source": [
    "dictTwoDice = dict()\n",
    "\n",
    "for i in strTwoDice:\n",
    "    if dictTwoDice(keys) = strTwoDice(i):\n",
    "        dictTwoDice.append\n",
    "        \n",
    "    \n",
    "for rolls in strTwoDice:\n",
    "    dictTwoDice[(sum(rolls))].append((rolls))\n",
    "    \n",
    "for keys in dictTwoDice:\n",
    "    print ((keys),dictTwoDice[keys])"
   ]
  },
  {
   "cell_type": "code",
   "execution_count": null,
   "id": "720c3d14-483b-4f90-9501-8f8c252e22a8",
   "metadata": {},
   "outputs": [],
   "source": [
    "\n",
    "\n",
    "possibleThrows = [] # strTwoDice\n",
    "\n",
    "chanceAmountFunction = dict() #dictTwoDice\n",
    "\n",
    "for x in possibleThrows:\n",
    "\n",
    "    chanceAmountFunction[(sum(x))] = []\n",
    "\n",
    "for throws in possibleThrows: #rolls\n",
    "\n",
    "    chanceAmountFunction[(sum(throws))].append((throws))\n",
    "\n",
    "for keys in chanceAmountFunction:\n",
    "\n",
    "    print((keys),chanceAmountFunction[keys])\n",
    "    \n",
    "\n",
    "trueChanceAmountFunction = {}\n",
    "\n",
    "\n",
    "for x in possibleThrows:\n",
    "\n",
    "    trueChanceAmountFunction[(sum(x))] = 0\n",
    "\n",
    "\n",
    "for x in possibleThrows:\n",
    "\n",
    "    trueChanceAmountFunction[(sum(x))] = len(chanceAmountFunction[(sum(x))])\n",
    "\n",
    "\n",
    "for keys in trueChanceAmountFunction:\n",
    "\n",
    "    print('p'+str((keys)),' : ',str(trueChanceAmountFunction[keys]),'/',(len(possibleThrows)))"
   ]
  },
  {
   "cell_type": "code",
   "execution_count": null,
   "id": "dadaac88-ece7-4dcb-ab57-dd47b67e91ce",
   "metadata": {},
   "outputs": [],
   "source": [
    "p = \"1/36\"\n",
    "prob = {element:p for element in set(twoDice.getList()}\n",
    "\n",
    "for i in twoDice.getList():\n",
    "    print( f\"p({i}) = {prob.get(i)}\" )"
   ]
  },
  {
   "cell_type": "code",
   "execution_count": null,
   "id": "7fcb62e9-e4d5-49f2-8263-1387bf01ba97",
   "metadata": {},
   "outputs": [],
   "source": []
  },
  {
   "cell_type": "code",
   "execution_count": null,
   "id": "c19cfeda-d11e-454c-bbd0-f585e4cf1509",
   "metadata": {},
   "outputs": [],
   "source": [
    "# initializing K\n",
    "K = 2\n",
    "  \n",
    "# using list comprehension to formulate elements\n",
    "temp = [list(range(1, 7)) for _ in range(K)]\n",
    "  \n",
    "# using product() to get Combinations\n",
    "res = list(product(*temp))\n",
    "  \n",
    "# printing result\n",
    "print(\"The constructed dice Combinations : \" + str(res))"
   ]
  },
  {
   "cell_type": "code",
   "execution_count": null,
   "id": "af6a6b2f-5274-4613-9849-e33aae81a3e8",
   "metadata": {},
   "outputs": [],
   "source": [
    "probTwoDice = dict()  \n",
    "keys = ['2', '3', '4', '5', '6', '7', '8', '9', '10', '11', '12']\n",
    "\n",
    "for i in twoDice():\n",
    "    if value in probTwoDice.keys():\n",
    "        probTwoDice[value].append(value)\n",
    "    else:\n",
    "    probTwoDice[value] = value\n",
    "    probTwoDice[keys] = keys\n"
   ]
  },
  {
   "cell_type": "code",
   "execution_count": null,
   "id": "966f4138-6e3b-4371-bfc8-8a962a366ae6",
   "metadata": {},
   "outputs": [],
   "source": [
    "sum_dict = dict()\n",
    "sum = []\n",
    "\n",
    "for line in list:\n",
    "    if line[0] in years_dict:\n",
    "        # append the new number to the existing array at this slot\n",
    "        years_dict[line[0]].append(line[1])\n",
    "    else:\n",
    "        # create a new array in this slot\n",
    "        years_dict[line[0]] = [line[1]]"
   ]
  },
  {
   "cell_type": "code",
   "execution_count": null,
   "id": "35bc0e93-a29b-4379-a40f-ea6a2013cd69",
   "metadata": {},
   "outputs": [],
   "source": []
  },
  {
   "cell_type": "markdown",
   "id": "c878858c-a5c8-4c52-b093-13b46ae78b7d",
   "metadata": {},
   "source": [
    "<h3>Metrics</h3>"
   ]
  },
  {
   "cell_type": "markdown",
   "id": "dce2fe5f-9c9d-49e8-a03b-28d0eedc368f",
   "metadata": {},
   "source": [
    "**Gebruik een numpy array voor het bepalen van centrum-maten**"
   ]
  },
  {
   "cell_type": "markdown",
   "id": "e82be685-7f00-4b64-8b4a-e47c9b584e0b",
   "metadata": {},
   "source": [
    "<h3>Exercise 3</h3>"
   ]
  },
  {
   "cell_type": "markdown",
   "id": "0a1f3850-fe36-4b18-b5f4-d3887c8a9341",
   "metadata": {},
   "source": [
    "<h4>Gegeven</h4>\n",
    "<p>De class Dobbelsteen in de module dobbelsteen.py</p>"
   ]
  },
  {
   "cell_type": "code",
   "execution_count": null,
   "id": "9573541d-f453-41d7-984b-a877cd258e39",
   "metadata": {},
   "outputs": [],
   "source": [
    "d2 = Dobbelsteen()"
   ]
  },
  {
   "cell_type": "markdown",
   "id": "2c2b9484-ff4a-4634-9e95-09bc9a808c51",
   "metadata": {},
   "source": [
    "<h4>Gevraagd</h4>\n",
    "<p>\n",
    "    Voeg het volgende toe aan class Dobbelsteen:\n",
    "    <ul>\n",
    "        <li>list variabele <u>history</u> waaraan de uitkomst van iedere worp wordt toegevoegd</li>\n",
    "        <li>method <u>getHistory(self)</u> die de waarde van variabele <u>history</u> geeft als <u>numpy-array</u></li>\n",
    "    </ul>\n",
    "    Schrijf vervolgens in de cell hieronder een loop die 100 keer <u>d2.roll()</u> uitvoert en print (buiten de loop):    \n",
    "    <ul>\n",
    "        <li>d2.getHistory()</li>\n",
    "        <li>d2.getModus()</li>\n",
    "    </ul>\n",
    " </p>  "
   ]
  },
  {
   "cell_type": "code",
   "execution_count": null,
   "id": "2a008910-462a-4df2-bc93-baf00bc09690",
   "metadata": {},
   "outputs": [],
   "source": [
    "# Oplossing"
   ]
  },
  {
   "cell_type": "markdown",
   "id": "2b8c5913-da0a-4195-8aa6-d11bd7d881a1",
   "metadata": {},
   "source": [
    "<h2>References</h2>\n",
    "<a href=\"https://realpython.com/python-dice-roll)\">Build a Dice-Rolling Application With Python</a>"
   ]
  }
 ],
 "metadata": {
  "kernelspec": {
   "display_name": "Python 3 (ipykernel)",
   "language": "python",
   "name": "python3"
  },
  "language_info": {
   "codemirror_mode": {
    "name": "ipython",
    "version": 3
   },
   "file_extension": ".py",
   "mimetype": "text/x-python",
   "name": "python",
   "nbconvert_exporter": "python",
   "pygments_lexer": "ipython3",
   "version": "3.9.12"
  },
  "vscode": {
   "interpreter": {
    "hash": "aee8b7b246df8f9039afb4144a1f6fd8d2ca17a180786b69acc140d282b71a49"
   }
  }
 },
 "nbformat": 4,
 "nbformat_minor": 5
}
